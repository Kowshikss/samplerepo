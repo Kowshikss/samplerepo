{
 "cells": [
  {
   "cell_type": "code",
   "execution_count": 12,
   "id": "901c7432",
   "metadata": {},
   "outputs": [],
   "source": [
    "import numpy as np"
   ]
  },
  {
   "cell_type": "code",
   "execution_count": 13,
   "id": "c62a920a",
   "metadata": {},
   "outputs": [],
   "source": [
    "np_olympic_country=np.array(['GBR', 'Chine', 'RUS', 'US', 'KOR', 'JPN', 'GER'])\n",
    "\n",
    "np_olympic_country_gold=np.array([29, 38, 24, 46, 13, 7, 11])\n",
    "\n",
    "np_olympic_country_silver=np.array([17, 28, 25, 28, 8, 14, 11])\n",
    "\n",
    "np_olympic_country_Bronze=np.array([19, 22, 32, 29, 7, 17, 14])"
   ]
  },
  {
   "cell_type": "markdown",
   "id": "5b283fbd",
   "metadata": {},
   "source": [
    "# 1 Find the country index with maximum gold?"
   ]
  },
  {
   "cell_type": "code",
   "execution_count": 14,
   "id": "0126656a",
   "metadata": {},
   "outputs": [],
   "source": [
    "max_gold_index = np.argmax(np_olympic_country_gold)"
   ]
  },
  {
   "cell_type": "code",
   "execution_count": 15,
   "id": "93fe36a9",
   "metadata": {},
   "outputs": [
    {
     "name": "stdout",
     "output_type": "stream",
     "text": [
      "maximum gold index result is: 3\n"
     ]
    }
   ],
   "source": [
    "print(\"maximum gold index result is:\",max_gold_index)"
   ]
  },
  {
   "cell_type": "markdown",
   "id": "098e483b",
   "metadata": {},
   "source": [
    "# 2. Print country with maximum Gold? "
   ]
  },
  {
   "cell_type": "code",
   "execution_count": 20,
   "id": "1fbb60e9",
   "metadata": {},
   "outputs": [],
   "source": [
    "country_with_max_gold = np_olympic_country[max_gold_index]"
   ]
  },
  {
   "cell_type": "code",
   "execution_count": 21,
   "id": "d455d8f3",
   "metadata": {},
   "outputs": [
    {
     "name": "stdout",
     "output_type": "stream",
     "text": [
      "maximum gold index result is:, US\n"
     ]
    }
   ],
   "source": [
    "print(\"maximum gold index result is:,\",country_with_max_gold)"
   ]
  },
  {
   "cell_type": "markdown",
   "id": "22d7f78e",
   "metadata": {},
   "source": [
    "# 3. Find countries with more than 20 gold medals\n",
    " "
   ]
  },
  {
   "cell_type": "code",
   "execution_count": 42,
   "id": "afd20bfa",
   "metadata": {},
   "outputs": [
    {
     "ename": "IndexError",
     "evalue": "boolean index did not match indexed array along dimension 0; dimension is 5 but corresponding boolean dimension is 7",
     "output_type": "error",
     "traceback": [
      "\u001b[1;31m---------------------------------------------------------------------------\u001b[0m",
      "\u001b[1;31mIndexError\u001b[0m                                Traceback (most recent call last)",
      "Cell \u001b[1;32mIn[42], line 1\u001b[0m\n\u001b[1;32m----> 1\u001b[0m countries_with_more_than_20_gold \u001b[38;5;241m=\u001b[39m np_olympic_country[np_olympic_country_gold \u001b[38;5;241m>\u001b[39m \u001b[38;5;241m20\u001b[39m]\n",
      "\u001b[1;31mIndexError\u001b[0m: boolean index did not match indexed array along dimension 0; dimension is 5 but corresponding boolean dimension is 7"
     ]
    }
   ],
   "source": [
    "countries_with_more_than_20_gold = np_olympic_country[np_olympic_country_gold > 20]"
   ]
  },
  {
   "cell_type": "code",
   "execution_count": 43,
   "id": "8b60e2fa",
   "metadata": {},
   "outputs": [
    {
     "ename": "NameError",
     "evalue": "name 'countries_with_more_than_20_gold' is not defined",
     "output_type": "error",
     "traceback": [
      "\u001b[1;31m---------------------------------------------------------------------------\u001b[0m",
      "\u001b[1;31mNameError\u001b[0m                                 Traceback (most recent call last)",
      "Cell \u001b[1;32mIn[43], line 1\u001b[0m\n\u001b[1;32m----> 1\u001b[0m \u001b[38;5;28mprint\u001b[39m(\u001b[38;5;124m\"\u001b[39m\u001b[38;5;124mcountries with more than 20 gold medals is: \u001b[39m\u001b[38;5;124m\"\u001b[39m,countries_with_more_than_20_gold)\n",
      "\u001b[1;31mNameError\u001b[0m: name 'countries_with_more_than_20_gold' is not defined"
     ]
    }
   ],
   "source": [
    "print(\"countries with more than 20 gold medals is: \",countries_with_more_than_20_gold)\n"
   ]
  },
  {
   "cell_type": "markdown",
   "id": "56e90209",
   "metadata": {},
   "source": [
    "# 4.Evaluate the dataset and print the medal:\n",
    "    \n",
    "    1.Print each country with no of gold medals"
   ]
  },
  {
   "cell_type": "code",
   "execution_count": 44,
   "id": "4be74f45",
   "metadata": {},
   "outputs": [
    {
     "ename": "ValueError",
     "evalue": "all the input array dimensions except for the concatenation axis must match exactly, but along dimension 0, the array at index 0 has size 5 and the array at index 1 has size 7",
     "output_type": "error",
     "traceback": [
      "\u001b[1;31m---------------------------------------------------------------------------\u001b[0m",
      "\u001b[1;31mValueError\u001b[0m                                Traceback (most recent call last)",
      "Cell \u001b[1;32mIn[44], line 1\u001b[0m\n\u001b[1;32m----> 1\u001b[0m combined_data \u001b[38;5;241m=\u001b[39m np\u001b[38;5;241m.\u001b[39mcolumn_stack((np_olympic_country, np_olympic_country_gold))\n\u001b[0;32m      3\u001b[0m \u001b[38;5;28;01mfor\u001b[39;00m country, gold_medals \u001b[38;5;129;01min\u001b[39;00m combined_data:\n\u001b[0;32m      4\u001b[0m     \u001b[38;5;28mprint\u001b[39m(\u001b[38;5;124mf\u001b[39m\u001b[38;5;124m\"\u001b[39m\u001b[38;5;132;01m{\u001b[39;00mcountry\u001b[38;5;132;01m}\u001b[39;00m\u001b[38;5;124m: \u001b[39m\u001b[38;5;132;01m{\u001b[39;00mgold_medals\u001b[38;5;132;01m}\u001b[39;00m\u001b[38;5;124m\"\u001b[39m)\n",
      "File \u001b[1;32m<__array_function__ internals>:200\u001b[0m, in \u001b[0;36mcolumn_stack\u001b[1;34m(*args, **kwargs)\u001b[0m\n",
      "File \u001b[1;32mE:\\anaconda\\Lib\\site-packages\\numpy\\lib\\shape_base.py:656\u001b[0m, in \u001b[0;36mcolumn_stack\u001b[1;34m(tup)\u001b[0m\n\u001b[0;32m    654\u001b[0m         arr \u001b[38;5;241m=\u001b[39m array(arr, copy\u001b[38;5;241m=\u001b[39m\u001b[38;5;28;01mFalse\u001b[39;00m, subok\u001b[38;5;241m=\u001b[39m\u001b[38;5;28;01mTrue\u001b[39;00m, ndmin\u001b[38;5;241m=\u001b[39m\u001b[38;5;241m2\u001b[39m)\u001b[38;5;241m.\u001b[39mT\n\u001b[0;32m    655\u001b[0m     arrays\u001b[38;5;241m.\u001b[39mappend(arr)\n\u001b[1;32m--> 656\u001b[0m \u001b[38;5;28;01mreturn\u001b[39;00m _nx\u001b[38;5;241m.\u001b[39mconcatenate(arrays, \u001b[38;5;241m1\u001b[39m)\n",
      "File \u001b[1;32m<__array_function__ internals>:200\u001b[0m, in \u001b[0;36mconcatenate\u001b[1;34m(*args, **kwargs)\u001b[0m\n",
      "\u001b[1;31mValueError\u001b[0m: all the input array dimensions except for the concatenation axis must match exactly, but along dimension 0, the array at index 0 has size 5 and the array at index 1 has size 7"
     ]
    }
   ],
   "source": [
    "combined_data = np.column_stack((np_olympic_country, np_olympic_country_gold))\n",
    "\n",
    "for country, gold_medals in combined_data:\n",
    "    print(f\"{country}: {gold_medals}\")"
   ]
  },
  {
   "cell_type": "markdown",
   "id": "9ae35db5",
   "metadata": {},
   "source": [
    "# 1. Create a 3X3X3X array with random values"
   ]
  },
  {
   "cell_type": "code",
   "execution_count": 47,
   "id": "7089e901",
   "metadata": {},
   "outputs": [
    {
     "name": "stdout",
     "output_type": "stream",
     "text": [
      "[[[0.72416899 0.54242842 0.2490967 ]\n",
      "  [0.31738591 0.84873862 0.56889028]\n",
      "  [0.21432471 0.25496618 0.21679437]]\n",
      "\n",
      " [[0.0282612  0.9423201  0.90610678]\n",
      "  [0.67785678 0.99299848 0.04759548]\n",
      "  [0.51804359 0.38630228 0.23042597]]\n",
      "\n",
      " [[0.59315935 0.3143114  0.00787798]\n",
      "  [0.88048793 0.5802387  0.4556411 ]\n",
      "  [0.66274632 0.63982962 0.15326973]]]\n"
     ]
    }
   ],
   "source": [
    "import numpy as np\n",
    "\n",
    "random = np.random.rand(3, 3, 3)\n",
    "\n",
    "print(random)"
   ]
  },
  {
   "cell_type": "markdown",
   "id": "8d5e9e7d",
   "metadata": {},
   "source": [
    "# 2.Create a 5x5 matrix with values 1,2,3,4 just below the diagonal"
   ]
  },
  {
   "cell_type": "code",
   "execution_count": 46,
   "id": "5e489ab7",
   "metadata": {},
   "outputs": [
    {
     "name": "stdout",
     "output_type": "stream",
     "text": [
      "[[0 0 0 0 0]\n",
      " [1 0 0 0 0]\n",
      " [0 2 0 0 0]\n",
      " [0 0 3 0 0]\n",
      " [0 0 0 4 0]]\n"
     ]
    }
   ],
   "source": [
    "matrix = np.zeros((5, 5), dtype=int)\n",
    "\n",
    "values = [1, 2, 3, 4]\n",
    "np.fill_diagonal(matrix[1:], values)\n",
    "\n",
    "print(matrix)"
   ]
  },
  {
   "cell_type": "markdown",
   "id": "868c8182",
   "metadata": {},
   "source": [
    "# 3.Create a 8x8 matrix and fill it with a checkerboard pattern "
   ]
  },
  {
   "cell_type": "code",
   "execution_count": 48,
   "id": "3a733ec3",
   "metadata": {},
   "outputs": [
    {
     "name": "stdout",
     "output_type": "stream",
     "text": [
      "[[1 0 1 0 1 0 1 0]\n",
      " [0 1 0 1 0 1 0 1]\n",
      " [1 0 1 0 1 0 1 0]\n",
      " [0 1 0 1 0 1 0 1]\n",
      " [1 0 1 0 1 0 1 0]\n",
      " [0 1 0 1 0 1 0 1]\n",
      " [1 0 1 0 1 0 1 0]\n",
      " [0 1 0 1 0 1 0 1]]\n"
     ]
    }
   ],
   "source": [
    "import numpy as np\n",
    "\n",
    "matrix = np.zeros((8, 8), dtype=int)\n",
    "\n",
    "matrix[::2, ::2] = 1\n",
    "matrix[1::2, 1::2] = 1\n",
    "\n",
    "print(matrix)"
   ]
  },
  {
   "cell_type": "markdown",
   "id": "895ed23c",
   "metadata": {},
   "source": [
    "# 4. Normalize a 5x5 random matrix "
   ]
  },
  {
   "cell_type": "code",
   "execution_count": 49,
   "id": "b55c61fc",
   "metadata": {},
   "outputs": [
    {
     "name": "stdout",
     "output_type": "stream",
     "text": [
      "Original Matrix:\n",
      "[[0.26217096 0.07939778 0.09473869 0.51473486 0.54964902]\n",
      " [0.24033448 0.33591596 0.78205221 0.62725086 0.46514152]\n",
      " [0.74673581 0.39983337 0.61505593 0.62537886 0.75820486]\n",
      " [0.75076436 0.29673656 0.55138962 0.86541187 0.10253772]\n",
      " [0.30421644 0.43953817 0.54085054 0.89426529 0.4153194 ]]\n",
      "\n",
      "Normalized Matrix:\n",
      "[[-0.97793627 -1.76142531 -1.69566385  0.10472281  0.25438844]\n",
      " [-1.07154214 -0.6618155   1.25062515  0.58704225 -0.10786766]\n",
      " [ 1.09923525 -0.3878224   0.53476654  0.57901757  1.14839935]\n",
      " [ 1.11650435 -0.82976483  0.26184982  1.60796086 -1.66223196]\n",
      " [-0.797701   -0.21762086  0.21667221  1.73164604 -0.32143886]]\n"
     ]
    }
   ],
   "source": [
    "import numpy as np\n",
    "\n",
    "random = np.random.rand(5, 5)\n",
    "\n",
    "Mean = np.mean(random)\n",
    "Std = np.std(random)\n",
    "\n",
    "normalized_matrix = (random - Mean) / Std\n",
    "\n",
    "print(\"Original Matrix:\")\n",
    "print(random)\n",
    "\n",
    "print(\"\\nNormalized Matrix:\")\n",
    "print(normalized_matrix)"
   ]
  },
  {
   "cell_type": "markdown",
   "id": "a12230c5",
   "metadata": {},
   "source": [
    "# 5. How to find common values between two arrays?"
   ]
  },
  {
   "cell_type": "code",
   "execution_count": 50,
   "id": "7962a438",
   "metadata": {},
   "outputs": [
    {
     "name": "stdout",
     "output_type": "stream",
     "text": [
      "[1]\n"
     ]
    }
   ],
   "source": [
    "array1 = np.array([7, 2, 1, 14, 5])\n",
    "array2 = np.array([9, 4, 9, 6, 1])\n",
    "\n",
    "common_values = np.intersect1d(array1, array2)\n",
    "print(common_values)"
   ]
  },
  {
   "cell_type": "markdown",
   "id": "543b53ec",
   "metadata": {},
   "source": [
    "#  6. How to get the dates of yesterday, today and tomorrow?"
   ]
  },
  {
   "cell_type": "code",
   "execution_count": 51,
   "id": "7e1acc29",
   "metadata": {},
   "outputs": [
    {
     "name": "stdout",
     "output_type": "stream",
     "text": [
      "Yesterday: 2023-09-20\n",
      "Today: 2023-09-21\n",
      "Tomorrow: 2023-09-22\n"
     ]
    }
   ],
   "source": [
    "from datetime import datetime, timedelta\n",
    "\n",
    "# Get the current date\n",
    "today = datetime.now().date()\n",
    "\n",
    "# Calculate the dates for yesterday and tomorrow\n",
    "yesterday = today - timedelta(days=1)\n",
    "tomorrow = today + timedelta(days=1)\n",
    "\n",
    "# Format the dates as strings\n",
    "today_str = today.strftime(\"%Y-%m-%d\")\n",
    "yesterday_str = yesterday.strftime(\"%Y-%m-%d\")\n",
    "tomorrow_str = tomorrow.strftime(\"%Y-%m-%d\")\n",
    "\n",
    "print(\"Yesterday:\", yesterday_str)\n",
    "print(\"Today:\", today_str)\n",
    "print(\"Tomorrow:\", tomorrow_str)"
   ]
  },
  {
   "cell_type": "markdown",
   "id": "378ff468",
   "metadata": {},
   "source": [
    "# 7. Consider two random array A and B, check if they are equal"
   ]
  },
  {
   "cell_type": "code",
   "execution_count": 14,
   "id": "4e3ff0dc",
   "metadata": {},
   "outputs": [
    {
     "name": "stdout",
     "output_type": "stream",
     "text": [
      "Arrays A and B are not equal.\n"
     ]
    }
   ],
   "source": [
    "import numpy as np\n",
    "\n",
    "A = np.random.rand(5, 5),\n",
    "\n",
    "B = np.random.rand (5, 5)\n",
    "\n",
    "equal = np.array_equal(A, B)\n",
    "\n",
    "if equal:\n",
    "    print(\"Arrays A and B are equal.\") \n",
    "else:\n",
    "    print(\"Arrays A and B are not equal.\")"
   ]
  },
  {
   "cell_type": "markdown",
   "id": "58571052",
   "metadata": {},
   "source": [
    "# 8.Create random vector of size 10 and replace the maximum value by 0"
   ]
  },
  {
   "cell_type": "code",
   "execution_count": 17,
   "id": "99089c4c",
   "metadata": {},
   "outputs": [
    {
     "name": "stdout",
     "output_type": "stream",
     "text": [
      "Random vector with the maximum value replaced:\n",
      "[0.71875823 0.72987053 0.79268324 0.34546844 0.67121631 0.\n",
      " 0.09660611 0.44864679 0.8241958  0.42935403]\n"
     ]
    }
   ],
   "source": [
    "import numpy as np\n",
    "\n",
    "random_vector= np.random.rand(10)\n",
    "\n",
    "max_value = random_vector.max()\n",
    "\n",
    "max_index = np.where(random_vector ==  max_value)[0]\n",
    "\n",
    "random_vector[max_index] = 0\n",
    "\n",
    "print(\"Random vector with the maximum value replaced:\") \n",
    "print(random_vector)"
   ]
  },
  {
   "cell_type": "markdown",
   "id": "0b00663d",
   "metadata": {},
   "source": [
    "# 9. How to print all the values of an array?"
   ]
  },
  {
   "cell_type": "code",
   "execution_count": 3,
   "id": "b7e58a9f",
   "metadata": {},
   "outputs": [
    {
     "name": "stdout",
     "output_type": "stream",
     "text": [
      "[1 2 3 4 5]\n"
     ]
    }
   ],
   "source": [
    "import numpy as np\n",
    "\n",
    "# Create a NumPy array\n",
    "my_array = np.array([1, 2, 3, 4, 5])\n",
    "\n",
    "# Print all the values of the array\n",
    "print(my_array)"
   ]
  },
  {
   "cell_type": "markdown",
   "id": "71d5b74a",
   "metadata": {},
   "source": [
    "# 10.Subtract the mean of each row of a matrix"
   ]
  },
  {
   "cell_type": "code",
   "execution_count": 4,
   "id": "20358c83",
   "metadata": {},
   "outputs": [
    {
     "name": "stdout",
     "output_type": "stream",
     "text": [
      "Original Matrix:\n",
      "[[1 2 3]\n",
      " [4 5 6]\n",
      " [7 8 9]]\n",
      "\n",
      "Matrix with Row Means Subtracted:\n",
      "[[-1.  0.  1.]\n",
      " [-1.  0.  1.]\n",
      " [-1.  0.  1.]]\n"
     ]
    }
   ],
   "source": [
    "import numpy as np\n",
    "\n",
    "# Create a sample matrix (you can replace this with your own matrix)\n",
    "matrix = np.array([[1, 2, 3],\n",
    "                   [4, 5, 6],\n",
    "                   [7, 8, 9]])\n",
    "\n",
    "# Calculate the mean of each row\n",
    "row_means = np.mean(matrix, axis=1, keepdims=True)\n",
    "\n",
    "# Subtract the row means from the matrix using broadcasting\n",
    "normalized_matrix = matrix - row_means\n",
    "\n",
    "print(\"Original Matrix:\")\n",
    "print(matrix)\n",
    "print(\"\\nMatrix with Row Means Subtracted:\")\n",
    "print(normalized_matrix)"
   ]
  },
  {
   "cell_type": "markdown",
   "id": "0d10aafe",
   "metadata": {},
   "source": [
    "# 11.Consider a given vector, how to add 1 to each element indexed by a second vector (be careful with repeated indices)?"
   ]
  },
  {
   "cell_type": "code",
   "execution_count": 5,
   "id": "3a8f84a5",
   "metadata": {},
   "outputs": [
    {
     "name": "stdout",
     "output_type": "stream",
     "text": [
      "Given Vector:\n",
      "[10 21 31 42 51]\n"
     ]
    }
   ],
   "source": [
    "import numpy as np\n",
    "\n",
    "# Given vector\n",
    "given_vector = np.array([10, 20, 30, 40, 50])\n",
    "\n",
    "# Second vector with indices\n",
    "indices_to_add_1 = np.array([1, 2, 3, 3, 4])\n",
    "\n",
    "# Find unique indices and their counts\n",
    "unique_indices, counts = np.unique(indices_to_add_1, return_counts=True)\n",
    "\n",
    "# Add 1 to each element at the unique indices\n",
    "given_vector[unique_indices] += counts\n",
    "\n",
    "print(\"Given Vector:\")\n",
    "print(given_vector)"
   ]
  },
  {
   "cell_type": "markdown",
   "id": "616f421f",
   "metadata": {},
   "source": [
    "# 12.How to get the diagonal of a dot product?"
   ]
  },
  {
   "cell_type": "code",
   "execution_count": 6,
   "id": "ebfd898d",
   "metadata": {},
   "outputs": [
    {
     "name": "stdout",
     "output_type": "stream",
     "text": [
      "Dot Product:\n",
      "[[19 22]\n",
      " [43 50]]\n",
      "\n",
      "Diagonal Elements:\n",
      "[19 50]\n"
     ]
    }
   ],
   "source": [
    "import numpy as np\n",
    "\n",
    "# Create two matrices\n",
    "matrix1 = np.array([[1, 2], [3, 4]])\n",
    "matrix2 = np.array([[5, 6], [7, 8]])\n",
    "\n",
    "# Compute the dot product of the two matrices\n",
    "dot_product = np.dot(matrix1, matrix2)\n",
    "\n",
    "# Extract the diagonal elements using np.diag\n",
    "diagonal_elements = np.diag(dot_product)\n",
    "\n",
    "print(\"Dot Product:\")\n",
    "print(dot_product)\n",
    "\n",
    "print(\"\\nDiagonal Elements:\")\n",
    "print(diagonal_elements)"
   ]
  },
  {
   "cell_type": "markdown",
   "id": "733129c5",
   "metadata": {},
   "source": [
    "# 13.How to find the most frequent value in an array?"
   ]
  },
  {
   "cell_type": "code",
   "execution_count": 7,
   "id": "eaeb44f0",
   "metadata": {},
   "outputs": [
    {
     "name": "stdout",
     "output_type": "stream",
     "text": [
      "The most frequent value is: 4\n"
     ]
    }
   ],
   "source": [
    "import numpy as np\n",
    "\n",
    "array = np.array([1,2,4,3,5,4,3,1,4])\n",
    "counts = np.bincount(array)\n",
    "most_frequent_value = np.argmax(counts)\n",
    "\n",
    "print(\"The most frequent value is:\", most_frequent_value)"
   ]
  },
  {
   "cell_type": "markdown",
   "id": "35d78ffb",
   "metadata": {},
   "source": [
    "# 14.How to get the n largest values of an array"
   ]
  },
  {
   "cell_type": "code",
   "execution_count": 8,
   "id": "cd0f884f",
   "metadata": {},
   "outputs": [
    {
     "name": "stdout",
     "output_type": "stream",
     "text": [
      "The 3 largest elements are: [5 6 9]\n"
     ]
    }
   ],
   "source": [
    "import numpy as np\n",
    "\n",
    "arr = np.array([3, 1, 4, 1, 5, 9, 2, 6, 5, 3])\n",
    "\n",
    "n = 3\n",
    "\n",
    "partitioned_arr = np.partition(arr, -n)\n",
    "\n",
    "n_largest_elements = partitioned_arr[-n:]\n",
    "\n",
    "print(\"The\", n, \"largest elements are:\", n_largest_elements)"
   ]
  },
  {
   "cell_type": "markdown",
   "id": "ddcf3c7d",
   "metadata": {},
   "source": [
    "# 15.How to create a record array from a regular array?"
   ]
  },
  {
   "cell_type": "code",
   "execution_count": 9,
   "id": "1ed380db",
   "metadata": {},
   "outputs": [
    {
     "name": "stdout",
     "output_type": "stream",
     "text": [
      "Record Array:\n",
      "[(1,) (2,) (3,) (4,) (5,)]\n",
      "Accessing 'my_coulmn': [1 2 3 4 5]\n"
     ]
    }
   ],
   "source": [
    "import numpy as np\n",
    "\n",
    "regular_array = np.array([1,2,3,4,5])\n",
    "\n",
    "record_array = np.rec.array(regular_array,dtype=[('my_column',int)])\n",
    "\n",
    "print(\"Record Array:\")   \n",
    "print(record_array) \n",
    "print(\"Accessing 'my_coulmn':\",record_array.my_column)"
   ]
  },
  {
   "cell_type": "markdown",
   "id": "0c5601c2",
   "metadata": {},
   "source": [
    "# 16. How to swap two rows of an array?"
   ]
  },
  {
   "cell_type": "code",
   "execution_count": 10,
   "id": "5cf0c76f",
   "metadata": {},
   "outputs": [
    {
     "name": "stdout",
     "output_type": "stream",
     "text": [
      "[[7 8 9]\n",
      " [4 5 6]\n",
      " [1 2 3]]\n"
     ]
    }
   ],
   "source": [
    "import numpy as np\n",
    "\n",
    "arr = np.array([[1, 2, 3],\n",
    "                [4, 5, 6],\n",
    "                [7, 8, 9]])\n",
    "\n",
    "row1_index = 0  \n",
    "row2_index = 2  \n",
    "\n",
    "arr[row1_index], arr[row2_index] = arr[row2_index].copy(), arr[row1_index].copy()\n",
    "\n",
    "print(arr)"
   ]
  },
  {
   "cell_type": "markdown",
   "id": "eb4af3ec",
   "metadata": {},
   "source": [
    "# 17. Write python code to reshape to the next dimension of numpy array?"
   ]
  },
  {
   "cell_type": "code",
   "execution_count": 11,
   "id": "699ee372",
   "metadata": {},
   "outputs": [
    {
     "name": "stdout",
     "output_type": "stream",
     "text": [
      "Original 1D Array:\n",
      "[1 2 3 4 5 6]\n",
      "\n",
      "Reshaped 2D Array:\n",
      "[[1]\n",
      " [2]\n",
      " [3]\n",
      " [4]\n",
      " [5]\n",
      " [6]]\n"
     ]
    }
   ],
   "source": [
    "import numpy as np\n",
    "\n",
    "# Create a 1D array (replace this with your own array)\n",
    "arr_1d = np.array([1, 2, 3, 4, 5, 6])\n",
    "\n",
    "# Reshape it to the next dimension (2D)\n",
    "arr_2d = arr_1d.reshape(-1, 1)\n",
    "\n",
    "print(\"Original 1D Array:\")\n",
    "print(arr_1d)\n",
    "\n",
    "print(\"\\nReshaped 2D Array:\")\n",
    "print(arr_2d)"
   ]
  },
  {
   "cell_type": "code",
   "execution_count": null,
   "id": "976d5021",
   "metadata": {},
   "outputs": [],
   "source": []
  }
 ],
 "metadata": {
  "kernelspec": {
   "display_name": "Python 3 (ipykernel)",
   "language": "python",
   "name": "python3"
  },
  "language_info": {
   "codemirror_mode": {
    "name": "ipython",
    "version": 3
   },
   "file_extension": ".py",
   "mimetype": "text/x-python",
   "name": "python",
   "nbconvert_exporter": "python",
   "pygments_lexer": "ipython3",
   "version": "3.11.4"
  }
 },
 "nbformat": 4,
 "nbformat_minor": 5
}
