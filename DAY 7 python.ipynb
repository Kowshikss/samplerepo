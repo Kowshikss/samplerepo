{
 "cells": [
  {
   "cell_type": "markdown",
   "id": "17d3cd06",
   "metadata": {},
   "source": [
    "# 1) Write a Python program to find a target values in a list using linear search with following steps:\n",
    "\n",
    "a. Initialize the list to store the input elements.\n",
    "\n",
    "b. Initialize found-False.\n",
    "\n",
    "c. Enter the item to be searched (match_item).\n",
    "\n",
    "d. For each element in the list.\n",
    "\n",
    "      1. if match_item = value\n",
    "\n",
    "         a. return match_item's position.\n",
    "\n",
    "e. If the match item is not in the list, display an error message that the item is not found in the list."
   ]
  },
  {
   "cell_type": "code",
   "execution_count": 5,
   "id": "2f3000c7",
   "metadata": {},
   "outputs": [
    {
     "name": "stdout",
     "output_type": "stream",
     "text": [
      "Enter the item to be searched: 6\n",
      "6 found at position 4.\n"
     ]
    }
   ],
   "source": [
    "def linear_search(input_list, match_item):\n",
    "    found = False\n",
    "\n",
    "    for position, value in enumerate(input_list):\n",
    "        if match_item == value:\n",
    "            found = True\n",
    "            return position\n",
    "\n",
    "    return None\n",
    "\n",
    "input_list = [7, 2, 8, 3, 6, 3, 9]\n",
    "\n",
    "match_item = int(input(\"Enter the item to be searched: \"))\n",
    "\n",
    "result = linear_search(input_list, match_item)\n",
    "\n",
    "if result is not None:\n",
    "    print(f\"{match_item} found at position {result}.\")\n",
    "else:\n",
    "    print(f\"{match_item} is not found in the list.\")"
   ]
  },
  {
   "cell_type": "markdown",
   "id": "2d85f3bc",
   "metadata": {},
   "source": [
    "# 2) Write a Python program to implement binary search to find the target values from the list: \n",
    "\n",
    "a. Create a separate function to do binary search.\n",
    "\n",
    "b. Get the number of inputs from the user. c. Store the inputs individually in a list.\n",
    "\n",
    "d. In binary search function at first sort the list in order to start the search from middle of the list.\n",
    "\n",
    "e. Compare the middle element to right and left elements to search target element.\n",
    "\n",
    "f. If greater, move to right of list or else move to another side of the list. g. Print the result along with \n",
    "the position of the element."
   ]
  },
  {
   "cell_type": "code",
   "execution_count": 7,
   "id": "5f339d19",
   "metadata": {},
   "outputs": [
    {
     "name": "stdout",
     "output_type": "stream",
     "text": [
      "Enter the number of elements: 5\n",
      "Enter element 1: 1\n",
      "Enter element 2: 8\n",
      "Enter element 3: 4\n",
      "Enter element 4: 9\n",
      "Enter element 5: 2\n",
      "Enter the target value to search for: 9\n",
      "9 found at position 4.\n"
     ]
    }
   ],
   "source": [
    "def binary_search(arr, target):\n",
    "    \n",
    "    arr.sort()\n",
    "    \n",
    "    left = 0\n",
    "    right = len(arr) - 1\n",
    "    \n",
    "    while left <= right:\n",
    "        mid = (left + right) // 2\n",
    "        \n",
    "        if arr[mid] == target:\n",
    "            return mid  \n",
    "        elif arr[mid] < target:\n",
    "            left = mid + 1\n",
    "        else:\n",
    "            right = mid - 1\n",
    "    \n",
    "    return -1  \n",
    "\n",
    "\n",
    "num_inputs = int(input(\"Enter the number of elements: \"))\n",
    "\n",
    "input_list = []\n",
    "\n",
    "for i in range(num_inputs):\n",
    "    element = int(input(f\"Enter element {i + 1}: \"))\n",
    "    input_list.append(element)\n",
    "\n",
    "target_value = int(input(\"Enter the target value to search for: \"))\n",
    "\n",
    "\n",
    "result = binary_search(input_list, target_value)\n",
    "\n",
    "if result != -1:\n",
    "    print(f\"{target_value} found at position {result}.\")\n",
    "else:\n",
    "    print(f\"{target_value} is not found in the list.\")"
   ]
  },
  {
   "cell_type": "markdown",
   "id": "8997707d",
   "metadata": {},
   "source": [
    "# 3) Write a Python program for sorting a list of elements using selection sort algorithm:\n",
    "\n",
    "a. Assume two lists: Sorted list- Initially empty and Unsorted List-Given input list.\n",
    "\n",
    "b. In the first iteration, find the smallest element in the unsorted list and place it in the sorted list.\n",
    "\n",
    "e. In the second iteration, find the smallest element in the unsorted list and place it in the \n",
    "correct position by comparing with the element in the sorted list.\n",
    "\n",
    "d. In the third iteration, again find the smallest element in the unsorted list and place it in the\n",
    "correct position by comparing with the elements in the sorted list.\n",
    "\n",
    "e. This process continues till the unsorted list becomes empty.\n",
    "\n",
    "f. Display the sorted list."
   ]
  },
  {
   "cell_type": "code",
   "execution_count": 8,
   "id": "9261bd9c",
   "metadata": {},
   "outputs": [
    {
     "name": "stdout",
     "output_type": "stream",
     "text": [
      "Sorted list: [11, 12, 15, 32, 85]\n"
     ]
    }
   ],
   "source": [
    "def selection_sort(input_list):\n",
    "    sorted_list = []  \n",
    "\n",
    "    while input_list:  \n",
    "        min_element = input_list[0]  \n",
    "\n",
    "        for item in input_list:\n",
    "            if item < min_element:\n",
    "                min_element = item \n",
    "\n",
    "        sorted_list.append(min_element)  \n",
    "        input_list.remove(min_element)   \n",
    "\n",
    "    return sorted_list\n",
    "\n",
    "input_list = [85, 15, 32, 12, 11]\n",
    "\n",
    "sorted_list = selection_sort(input_list)\n",
    "\n",
    "print(\"Sorted list:\", sorted_list)"
   ]
  },
  {
   "cell_type": "markdown",
   "id": "16237fab",
   "metadata": {},
   "source": [
    "# 4) Write a Python program for sorting a list of elements using insertion sort algorithm:\n",
    "\n",
    "a. Assume two lists: Sorted list- Initially empty and Unsorted List-Given input list. \n",
    "    \n",
    "b. In the first iteration, take the first element in the unsorted list and insert it in Sorted list.\n",
    "\n",
    "c. In the second iteration, take the second element in the given list and compare with the element \n",
    "in the sorted sub list and place it in the correct position.\n",
    "\n",
    "d. In the third iteration, take the third element in the given list and compare with the elements \n",
    "in the sorted sub list and place the elements in the correct position.\n",
    "\n",
    "e. This process continues until the last element is inserted in the sorted sub list.\n",
    "\n",
    "f Display the sorted elements."
   ]
  },
  {
   "cell_type": "code",
   "execution_count": 10,
   "id": "d0a5ed4d",
   "metadata": {},
   "outputs": [
    {
     "name": "stdout",
     "output_type": "stream",
     "text": [
      "Sorted list: [10, 15, 25, 61, 82]\n"
     ]
    }
   ],
   "source": [
    "def insertion_sort(input_list):\n",
    "    sorted_list = []  \n",
    "\n",
    "    for item in input_list:\n",
    "        if not sorted_list:\n",
    "            sorted_list.append(item)  \n",
    "        else:\n",
    "            \n",
    "            inserted = False\n",
    "            for i in range(len(sorted_list)):\n",
    "                if item < sorted_list[i]:\n",
    "                    sorted_list.insert(i, item)  \n",
    "                    inserted = True\n",
    "                    break\n",
    "\n",
    "            if not inserted:\n",
    "                sorted_list.append(item)  \n",
    "\n",
    "    return sorted_list\n",
    "\n",
    "input_list = [15, 25, 82, 10, 61]\n",
    "\n",
    "sorted_list = insertion_sort(input_list)\n",
    "\n",
    "print(\"Sorted list:\", sorted_list)"
   ]
  },
  {
   "cell_type": "code",
   "execution_count": null,
   "id": "50d58e85",
   "metadata": {},
   "outputs": [],
   "source": [
    "5. Write a Python program that performs merge sort on a list of numbers:\n",
    "\n",
    "\n",
    "     a) Divide: If the given array has zero or one element, return.\n",
    "\n",
    "             i. Otherwise\n",
    "\n",
    "             ii. Divide the input list in to two halves each containing half of the elements. i.e. left half and right half.\n",
    "\n",
    "     b) Conquer: Recursively sort the two lists (left half and right half).\n",
    "\n",
    "            a. Call the merge sort on left half.\n",
    "    \n",
    "            b. Call the merge sort on right half.\n",
    "\n",
    "     c) Combine: Combine the elements back in the input list by merging the two sorted lists into a sorted sequence."
   ]
  },
  {
   "cell_type": "code",
   "execution_count": 12,
   "id": "497abb90",
   "metadata": {},
   "outputs": [
    {
     "name": "stdout",
     "output_type": "stream",
     "text": [
      "Sorted list: [11, 35, 54, 62, 82]\n"
     ]
    }
   ],
   "source": [
    "def merge_sort(input_list):\n",
    "    if len(input_list) > 1:\n",
    "        mid = len(input_list) // 2 \n",
    "\n",
    "        \n",
    "        left_half = input_list[:mid]\n",
    "        right_half = input_list[mid:]\n",
    "\n",
    "        \n",
    "        merge_sort(left_half)\n",
    "        merge_sort(right_half)\n",
    "\n",
    "    \n",
    "        i = j = k = 0 \n",
    "\n",
    "        while i < len(left_half) and j < len(right_half):\n",
    "            if left_half[i] < right_half[j]:\n",
    "                input_list[k] = left_half[i]\n",
    "                i += 1\n",
    "            else:\n",
    "                input_list[k] = right_half[j]\n",
    "                j += 1\n",
    "            k += 1\n",
    "\n",
    "        while i < len(left_half):\n",
    "            input_list[k] = left_half[i]\n",
    "            i += 1\n",
    "            k += 1\n",
    "\n",
    "        while j < len(right_half):\n",
    "            input_list[k] = right_half[j]\n",
    "            j += 1\n",
    "            k += 1\n",
    "\n",
    "input_list = [54, 35, 82, 62, 11]\n",
    "\n",
    "merge_sort(input_list)\n",
    "\n",
    "\n",
    "print(\"Sorted list:\", input_list)"
   ]
  },
  {
   "cell_type": "markdown",
   "id": "2f1b4c56",
   "metadata": {},
   "source": [
    "# 6) Write a Python script to perform the following operations on a singly linked list\n",
    "\n",
    "a. Create a list\n",
    "\n",
    "b. Find the smallest element from the list\n",
    "\n",
    "c. Insert an element if it is not a duplicate element\n",
    "\n",
    "d. Display the elements in reverse order\n",
    "\n"
   ]
  },
  {
   "cell_type": "code",
   "execution_count": 6,
   "id": "24fff138",
   "metadata": {},
   "outputs": [
    {
     "name": "stdout",
     "output_type": "stream",
     "text": [
      "Original List:\n",
      "20 -> 6 -> 8 -> 15 -> 5 -> None\n",
      "The smallest element is: 5\n",
      "8 is already in the list. Not inserting.\n",
      "List in Reverse Order:\n",
      "30 -> 5 -> 15 -> 8 -> 6 -> 20 -> None\n"
     ]
    }
   ],
   "source": [
    "class Node:\n",
    "    def __init__(self, data):\n",
    "        self.data = data\n",
    "        self.next = None\n",
    "\n",
    "class LinkedList:\n",
    "    def __init__(self):\n",
    "        self.head = None\n",
    "\n",
    "    def create_list(self, elements):\n",
    "        for element in elements:\n",
    "            self.insert_end(element)\n",
    "\n",
    "    def insert_end(self, data):\n",
    "        new_node = Node(data)\n",
    "        if not self.head:\n",
    "            self.head = new_node\n",
    "            return\n",
    "        current = self.head\n",
    "        while current.next:\n",
    "            current = current.next\n",
    "        current.next = new_node\n",
    "\n",
    "    def find_smallest(self):\n",
    "        if not self.head:\n",
    "            return None\n",
    "        current = self.head\n",
    "        smallest = current.data\n",
    "        while current:\n",
    "            if current.data < smallest:\n",
    "                smallest = current.data\n",
    "            current = current.next\n",
    "        return smallest\n",
    "\n",
    "    def insert_if_not_duplicate(self, data):\n",
    "        if not self.head:\n",
    "            self.head = Node(data)\n",
    "            return\n",
    "        current = self.head\n",
    "        while current:\n",
    "            if current.data == data:\n",
    "                print(f\"{data} is already in the list. Not inserting.\")\n",
    "                return\n",
    "            if current.next is None:\n",
    "                current.next = Node(data)\n",
    "                return\n",
    "            current = current.next\n",
    "\n",
    "    def display_reverse(self):\n",
    "        stack = []\n",
    "        current = self.head\n",
    "        while current:\n",
    "            stack.append(current.data)\n",
    "            current = current.next\n",
    "        print(\"List in Reverse Order:\")\n",
    "        while stack:\n",
    "            print(stack.pop(), end=\" -> \")\n",
    "        print(\"None\")\n",
    "\n",
    "linked_list = LinkedList()\n",
    "elements = [20, 6, 8, 15, 5]\n",
    "linked_list.create_list(elements)\n",
    "\n",
    "print(\"Original List:\")\n",
    "current = linked_list.head\n",
    "while current:\n",
    "    print(current.data, end=\" -> \")\n",
    "    current = current.next\n",
    "print(\"None\")\n",
    "\n",
    "smallest = linked_list.find_smallest()\n",
    "print(f\"The smallest element is: {smallest}\")\n",
    "\n",
    "linked_list.insert_if_not_duplicate(8)\n",
    "linked_list.insert_if_not_duplicate(30)\n",
    "\n",
    "linked_list.display_reverse()"
   ]
  },
  {
   "cell_type": "markdown",
   "id": "d2c529c3",
   "metadata": {},
   "source": [
    "# 7) Write a python program to implement the various operations for Stack ADT         i.) Push ii.) Pop iii.) Display.\n"
   ]
  },
  {
   "cell_type": "code",
   "execution_count": 7,
   "id": "103508da",
   "metadata": {},
   "outputs": [
    {
     "name": "stdout",
     "output_type": "stream",
     "text": [
      "stack elements:\n",
      "3\n",
      "2\n",
      "1\n",
      "stack is empty\n",
      "Popped item: 3\n",
      "stack elements:\n",
      "2\n",
      "1\n",
      "stack is empty\n"
     ]
    }
   ],
   "source": [
    "class stack:\n",
    "    def __init__(self):\n",
    "        self.items=[]\n",
    "        \n",
    "    def push(self,item):\n",
    "        self.items.append(item)\n",
    "        \n",
    "    def pop(self):\n",
    "        if not self.is_empty():\n",
    "            return self.items.pop()\n",
    "        else:\n",
    "            return \"Stack is empty\"\n",
    "        \n",
    "    def display(self):\n",
    "        if not self.is_empty():\n",
    "            print(\"stack elements:\")\n",
    "            for item in reversed(self.items):\n",
    "                print(item)\n",
    "            else:\n",
    "                print(\"stack is empty\")\n",
    "                \n",
    "    def is_empty(self):\n",
    "        return len(self.items) == 0\n",
    "    \n",
    "stack=stack()\n",
    "\n",
    "stack.push(1)\n",
    "stack.push(2)\n",
    "stack.push(3)\n",
    "\n",
    "stack.display()\n",
    "\n",
    "popped_item=stack.pop()\n",
    "print(\"Popped item:\",popped_item)\n",
    "\n",
    "stack.display()"
   ]
  },
  {
   "cell_type": "markdown",
   "id": "fdb3c8c9",
   "metadata": {},
   "source": [
    "# 8) Write a python script to implement the various operations for Queue ADT i) Insert ii.) Delete iii.) Display.\n",
    "\n"
   ]
  },
  {
   "cell_type": "code",
   "execution_count": 8,
   "id": "14ddd7b1",
   "metadata": {},
   "outputs": [
    {
     "name": "stdout",
     "output_type": "stream",
     "text": [
      "Queue elements:\n",
      "1\n",
      "2\n",
      "3\n",
      "Deleted item: 1\n",
      "Queue elements:\n",
      "2\n",
      "3\n"
     ]
    }
   ],
   "source": [
    "class Queue:\n",
    "    def __init__(self):\n",
    "        self.items = []\n",
    "\n",
    "    def insert(self, item):\n",
    "        self.items.append(item)\n",
    "\n",
    "    def delete(self):\n",
    "        if not self.is_empty():\n",
    "            return self.items.pop(0)\n",
    "        else:\n",
    "            return \"Queue is empty\"\n",
    "\n",
    "    def display(self):\n",
    "        if not self.is_empty():\n",
    "            print(\"Queue elements:\")\n",
    "            for item in self.items:\n",
    "                print(item)\n",
    "        else:\n",
    "            print(\"Queue is empty\")\n",
    "\n",
    "    def is_empty(self):\n",
    "        return len(self.items) == 0\n",
    "\n",
    "queue = Queue()\n",
    "\n",
    "queue.insert(1)\n",
    "queue.insert(2)\n",
    "queue.insert(3)\n",
    "\n",
    "queue.display() \n",
    "\n",
    "deleted_item = queue.delete()\n",
    "print(\"Deleted item:\", deleted_item)\n",
    "\n",
    "queue.display()"
   ]
  },
  {
   "cell_type": "markdown",
   "id": "48a1741f",
   "metadata": {},
   "source": [
    "# 9) Write a program in python to convert the following infix expression to its postfix form using push and pop operations of a Stack\n",
    "\n",
    "a. A/B^C+D*E-F G b. (B^2-4°A°C)^(1/2) (100)"
   ]
  },
  {
   "cell_type": "code",
   "execution_count": 1,
   "id": "8516195e",
   "metadata": {},
   "outputs": [
    {
     "name": "stdout",
     "output_type": "stream",
     "text": [
      "Infix Expression 1: A/B^C+D*E-F*G\n",
      "Postfix Expression 1: ABC^/DE*+FG*-\n",
      "Infix Expression 2: (B^2-4*A*C)^(1/2)*(100)\n",
      "Postfix Expression 2: B2^4A*C*-12/^100*\n"
     ]
    }
   ],
   "source": [
    "def infix_to_postfix(infix_expr):\n",
    "    precedence = {'^': 3, '*': 2, '/': 2, '+': 1, '-': 1, '(': 0}\n",
    "    \n",
    "    def is_operator(char):\n",
    "        return char in \"+-*/^\"\n",
    "    \n",
    "    def higher_precedence(op1, op2):\n",
    "        return precedence[op1] >= precedence[op2]\n",
    "    \n",
    "    postfix = []\n",
    "    stack = []\n",
    "    \n",
    "    for char in infix_expr:\n",
    "        if char.isalnum():\n",
    "            postfix.append(char)\n",
    "        elif char == '(':\n",
    "            stack.append(char)\n",
    "        elif char == ')':\n",
    "            while stack and stack[-1] != '(':\n",
    "                postfix.append(stack.pop())\n",
    "            stack.pop()  # Pop and discard '('\n",
    "        elif is_operator(char):\n",
    "            while stack and stack[-1] != '(' and higher_precedence(stack[-1], char):\n",
    "                postfix.append(stack.pop())\n",
    "            stack.append(char)\n",
    "    \n",
    "    while stack:\n",
    "        postfix.append(stack.pop())\n",
    "    \n",
    "    return ''.join(postfix)\n",
    "\n",
    "\n",
    "infix_expr1 = \"A/B^C+D*E-F*G\"\n",
    "infix_expr2 = \"(B^2-4*A*C)^(1/2)*(100)\"\n",
    "\n",
    "postfix1 = infix_to_postfix(infix_expr1)\n",
    "postfix2 = infix_to_postfix(infix_expr2)\n",
    "\n",
    "print(\"Infix Expression 1:\", infix_expr1)\n",
    "print(\"Postfix Expression 1:\", postfix1)\n",
    "\n",
    "print(\"Infix Expression 2:\", infix_expr2)\n",
    "print(\"Postfix Expression 2:\", postfix2)"
   ]
  },
  {
   "cell_type": "code",
   "execution_count": null,
   "id": "fb587257",
   "metadata": {},
   "outputs": [],
   "source": []
  }
 ],
 "metadata": {
  "kernelspec": {
   "display_name": "Python 3 (ipykernel)",
   "language": "python",
   "name": "python3"
  },
  "language_info": {
   "codemirror_mode": {
    "name": "ipython",
    "version": 3
   },
   "file_extension": ".py",
   "mimetype": "text/x-python",
   "name": "python",
   "nbconvert_exporter": "python",
   "pygments_lexer": "ipython3",
   "version": "3.11.4"
  }
 },
 "nbformat": 4,
 "nbformat_minor": 5
}
