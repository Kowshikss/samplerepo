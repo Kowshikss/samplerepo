{
 "cells": [
  {
   "cell_type": "markdown",
   "id": "170e24b4",
   "metadata": {},
   "source": [
    "# 1)write a python function that copies a file reading and writing upto 50 characters at a time"
   ]
  },
  {
   "cell_type": "code",
   "execution_count": 1,
   "id": "4b35fd15",
   "metadata": {},
   "outputs": [],
   "source": [
    "file=open('first.txt','w')\n"
   ]
  },
  {
   "cell_type": "code",
   "execution_count": 3,
   "id": "1fcc71fb",
   "metadata": {},
   "outputs": [
    {
     "data": {
      "text/plain": [
       "False"
      ]
     },
     "execution_count": 3,
     "metadata": {},
     "output_type": "execute_result"
    }
   ],
   "source": [
    "file.readable()"
   ]
  },
  {
   "cell_type": "code",
   "execution_count": 5,
   "id": "2868822b",
   "metadata": {},
   "outputs": [],
   "source": [
    "file.close()"
   ]
  },
  {
   "cell_type": "code",
   "execution_count": 9,
   "id": "1d060a8f",
   "metadata": {},
   "outputs": [
    {
     "data": {
      "text/plain": [
       "True"
      ]
     },
     "execution_count": 9,
     "metadata": {},
     "output_type": "execute_result"
    }
   ],
   "source": [
    "file=open('first.txt','r')\n",
    "file.readable()"
   ]
  },
  {
   "cell_type": "code",
   "execution_count": 13,
   "id": "216bc79b",
   "metadata": {},
   "outputs": [
    {
     "name": "stdout",
     "output_type": "stream",
     "text": [
      "File 'end.txt' copied to 'myname.txt' successfully.\n"
     ]
    }
   ],
   "source": [
    "def copy_file(end_file, myname_file, char_size=50):\n",
    "    try:\n",
    "        with open(end_file, 'rb') as en_file, open(myname_file, 'wb') as my_file:\n",
    "            while True:\n",
    "                char = en_file.read()\n",
    "                if not char:\n",
    "                    break\n",
    "                my_file.write(char)\n",
    "        print(f\"File '{end_file}' copied to '{myname_file}' successfully.\")\n",
    "    except FileNotFoundError:\n",
    "        print(f\"Error: '{end_file}' not found.\")\n",
    "    except Exception as e:\n",
    "        print(f\"An error occurred: {str(e)}\")\n",
    "\n",
    "\n",
    "end_file = 'end.txt'\n",
    "myname_file = 'myname.txt'\n",
    "copy_file(end_file,myname_file)"
   ]
  },
  {
   "cell_type": "markdown",
   "id": "a0fc6f68",
   "metadata": {},
   "source": [
    "# 2) Print all numbers present in the text file and print no of black spaces in that file."
   ]
  },
  {
   "cell_type": "code",
   "execution_count": 15,
   "id": "32997c81",
   "metadata": {},
   "outputs": [
    {
     "name": "stdout",
     "output_type": "stream",
     "text": [
      "No numbers found in the file.\n",
      "Number of blank spaces in the file: 3\n"
     ]
    }
   ],
   "source": [
    "import re\n",
    "\n",
    "def extract_numbers_and_count_spaces(filename):\n",
    "    try:\n",
    "        with open(filename, 'r') as file:\n",
    "            content = file.read()\n",
    "            \n",
    "            \n",
    "            numbers = re.findall(r'\\d+', content)\n",
    "            if numbers:\n",
    "                print(\"Numbers found in the file:\", ', '.join(numbers))\n",
    "            else:\n",
    "                print(\"No numbers found in the file.\")\n",
    "            \n",
    "            \n",
    "            blank_space_count = content.count(' ')\n",
    "            print(\"Number of blank spaces in the file:\", blank_space_count)\n",
    "    except FileNotFoundError:\n",
    "        print(f\"Error: '{filename}' not found.\")\n",
    "    except Exception as e:\n",
    "        print(f\"An error occurred: {str(e)}\")\n",
    "\n",
    "        \n",
    "filename = 'end.txt'\n",
    "extract_numbers_and_count_spaces(filename)"
   ]
  },
  {
   "cell_type": "markdown",
   "id": "cfb92af6",
   "metadata": {},
   "source": [
    "# 3) Write a function called sed that takes as arguments a pattern string, a replacement string, and two filenames; it should read the first file and write the contents into the second file (creating it if necessary). If the pattern string appears anywhere in the file, it should be replaced with the replacement string. If an error occurs while opening, reading, writing. or closing files, your program should catch the exception, print an error message, and exit."
   ]
  },
  {
   "cell_type": "code",
   "execution_count": 16,
   "id": "ea8a5fef",
   "metadata": {},
   "outputs": [
    {
     "name": "stdout",
     "output_type": "stream",
     "text": [
      "Text replacement completed. Check 'my name is kowshik.txt' for the result.\n"
     ]
    }
   ],
   "source": [
    "def sed(pattern, replacement, first_filename, last_filename):\n",
    "    try:\n",
    "        with open(first_filename, 'r') as first_file, open(last_filename, 'w') as last_file:\n",
    "            for line in first_file:\n",
    "                modified_line = line.replace(pattern, replacement)\n",
    "                last_file.write(modified_line)\n",
    "        print(f\"Text replacement completed. Check '{last_filename}' for the result.\")\n",
    "    except FileNotFoundError:\n",
    "        print(f\"Error: '{first_filename}' not found.\")\n",
    "    except Exception as e:\n",
    "        print(f\"An error occurred: {str(e)}\")\n",
    "\n",
    "\n",
    "pattern = 'old_pattern'\n",
    "replacement = 'new_pattern'\n",
    "first_filename = 'end.txt'\n",
    "last_filename = 'my name is kowshik.txt'\n",
    "\n",
    "sed(pattern, replacement, first_filename, last_filename)"
   ]
  },
  {
   "cell_type": "markdown",
   "id": "e7f3b87f",
   "metadata": {},
   "source": [
    "# 5) Text File Search and Replace: You have a text file with a large amount of text, and you want to search for specific words or phrases and replace them with new content."
   ]
  },
  {
   "cell_type": "code",
   "execution_count": 22,
   "id": "3245325a",
   "metadata": {},
   "outputs": [
    {
     "name": "stdout",
     "output_type": "stream",
     "text": [
      "Search and replace completed in 'myname.txt'.\n"
     ]
    }
   ],
   "source": [
    "#a) Write Python code to search for and replace text within a text file:\n",
    "\n",
    "def search_replace_in_file(file_path, search_text, replace_text):\n",
    "    try:\n",
    "        with open(file_path, 'r') as file:\n",
    "            file_contents = file.read()\n",
    "            updated_contents = file_contents.replace(search_text, replace_text)\n",
    "\n",
    "        with open(file_path, 'w') as file:\n",
    "            file.write(updated_contents)\n",
    "        \n",
    "        print(f\"Search and replace completed in '{file_path}'.\")\n",
    "    except FileNotFoundError:\n",
    "        print(f\"Error: '{file_path}' not found.\")\n",
    "    except Exception as e:\n",
    "        print(f\"An error occurred: {str(e)}\")\n",
    "\n",
    "# Example usage:\n",
    "file_path = 'e.txt'\n",
    "search_text = 'old_text'\n",
    "replace_text = 'new_text'\n",
    "search_replace_in_file(file_path, search_text, replace_text)\n",
    "\n"
   ]
  },
  {
   "cell_type": "code",
   "execution_count": null,
   "id": "fa6dbcc5",
   "metadata": {},
   "outputs": [],
   "source": [
    "# b) How would you handle cases where you need to perform multiple replacements in a single pass?\n",
    "def multiple_search_replace_in_file(file_path, replacement_dict):\n",
    "    try:\n",
    "        with open(file_path, 'r') as file:\n",
    "            file_contents = file.read()\n",
    "\n",
    "        for search_text, replace_text in replacement_dict.items():\n",
    "            file_contents = file_contents.replace(search_text, replace_text)\n",
    "\n",
    "        with open(file_path, 'w') as file:\n",
    "            file.write(file_contents)\n",
    "\n",
    "        print(f\"Multiple search and replace completed in '{file_path}'.\")\n",
    "    except FileNotFoundError:\n",
    "        print(f\"Error: '{file_path}' not found.\")\n",
    "    except Exception as e:\n",
    "        print(f\"An error occurred: {str(e)}\")\n",
    "\n",
    "\n",
    "file_path = 'myname.txt'\n",
    "replacement_dict = {\n",
    "    'old_text1': 'new_text1',\n",
    "    'old_text2': 'new_text2',\n",
    "    'old_text3': 'new_text3'\n",
    "}\n",
    "multiple_search_replace_in_file(file_path, replacement_dict)"
   ]
  },
  {
   "cell_type": "markdown",
   "id": "68085e57",
   "metadata": {},
   "source": [
    "# 6. Write a Python script that concatenates the contents of multiple text files into a single output file. Allow the user to specify the input files and the output file"
   ]
  },
  {
   "cell_type": "code",
   "execution_count": null,
   "id": "08064381",
   "metadata": {},
   "outputs": [
    {
     "name": "stdout",
     "output_type": "stream",
     "text": [
      "Enter the name of an input text file (or 'done' to finish): Kowshik\n",
      "Enter the name of an input text file (or 'done' to finish): Chennai\n"
     ]
    }
   ],
   "source": [
    "def concatenate_files(input_files, output_file):\n",
    "    try:\n",
    "        with open(output_file, 'w') as output:\n",
    "            for input_file in input_files:\n",
    "                with open(input_file, 'r') as file:\n",
    "                    output.write(file.read())\n",
    "        print(f\"Concatenation completed. Output written to '{output_file}'.\")\n",
    "    except FileNotFoundError:\n",
    "        print(\"Error: One or more input files not found.\")\n",
    "    except Exception as e:\n",
    "        print(f\"An error occurred: {str(e)}\")\n",
    "\n",
    "def main():\n",
    "    input_files = []\n",
    "    while True:\n",
    "        file_name = input(\"Enter the name of an input text file (or 'done' to finish): \")\n",
    "        if file_name.lower() == 'done':\n",
    "            break\n",
    "        input_files.append(file_name)\n",
    "\n",
    "    if not input_files:\n",
    "        print(\"No input files specified. Exiting.\")\n",
    "        return\n",
    "\n",
    "    output_file = input(\"Enter the name of the output text file: \")\n",
    "\n",
    "    concatenate_files(input_files, output_file)\n",
    "\n",
    "main()"
   ]
  },
  {
   "cell_type": "markdown",
   "id": "1c4c9314",
   "metadata": {},
   "source": []
  },
  {
   "cell_type": "code",
   "execution_count": 29,
   "id": "649e3925",
   "metadata": {},
   "outputs": [
    {
     "name": "stdout",
     "output_type": "stream",
     "text": [
      "Word lengths written to end.txt successfully.\n"
     ]
    }
   ],
   "source": [
    "#7\n",
    "def process_word_lengths(input_file, output_file):\n",
    "    try:\n",
    "        word_length_dict = {}\n",
    "\n",
    "        \n",
    "        with open(input_file, 'r') as input_f:\n",
    "            for line in input_f:\n",
    "                word = line.strip()\n",
    "                length = len(word)\n",
    "                word_length_dict[word] = length\n",
    "\n",
    "        \n",
    "        with open(output_file, 'w') as output_f:\n",
    "            for word, length in word_length_dict.items():\n",
    "                output_f.write(f\"{word}: length {length}\\n\")\n",
    "\n",
    "        print(f\"Word lengths written to {output_file} successfully.\")\n",
    "    except FileNotFoundError:\n",
    "        print(f\"Error: '{input_file}' not found.\")\n",
    "    except Exception as e:\n",
    "        print(f\"An error occurred: {str(e)}\")\n",
    "\n",
    "\n",
    "input_file = 'myname.txt'\n",
    "output_file = 'end.txt'\n",
    "process_word_lengths(input_file,output_file)"
   ]
  },
  {
   "cell_type": "markdown",
   "id": "514dd489",
   "metadata": {},
   "source": [
    "# 8. Assume that you are developing a student gradebook system for a school. The system should allow teachers to input student grades for various subjects, store the data in files. and provide students with the ability to view their grades. Design a Python program that accomplishes the following tasks:\n",
    "\n",
    "#i. Teachers should be able to input grades for students in different subjects.\n",
    "#ii. Store the student grade data in separate text files for each subject. \n",
    "#iii. Students should be able to view their grades for each subject.\n",
    "#iv. Implement error handling for file operations, such as file not found or permission issues."
   ]
  },
  {
   "cell_type": "code",
   "execution_count": 3,
   "id": "10bd75e0",
   "metadata": {},
   "outputs": [
    {
     "ename": "NameError",
     "evalue": "name '_name_' is not defined",
     "output_type": "error",
     "traceback": [
      "\u001b[1;31m---------------------------------------------------------------------------\u001b[0m",
      "\u001b[1;31mNameError\u001b[0m                                 Traceback (most recent call last)",
      "Cell \u001b[1;32mIn[3], line 38\u001b[0m\n\u001b[0;32m     34\u001b[0m     \u001b[38;5;28;01mexcept\u001b[39;00m \u001b[38;5;167;01mException\u001b[39;00m \u001b[38;5;28;01mas\u001b[39;00m e:\n\u001b[0;32m     35\u001b[0m         \u001b[38;5;28mprint\u001b[39m(\u001b[38;5;124mf\u001b[39m\u001b[38;5;124m\"\u001b[39m\u001b[38;5;124mAn error occurred: \u001b[39m\u001b[38;5;132;01m{\u001b[39;00m\u001b[38;5;28mstr\u001b[39m(e)\u001b[38;5;132;01m}\u001b[39;00m\u001b[38;5;124m\"\u001b[39m)\n\u001b[1;32m---> 38\u001b[0m \u001b[38;5;28;01mif\u001b[39;00m _name_ \u001b[38;5;241m==\u001b[39m \u001b[38;5;124m\"\u001b[39m\u001b[38;5;124m_main_\u001b[39m\u001b[38;5;124m\"\u001b[39m:\n\u001b[0;32m     39\u001b[0m     \u001b[38;5;28;01mwhile\u001b[39;00m \u001b[38;5;28;01mTrue\u001b[39;00m:\n\u001b[0;32m     40\u001b[0m         \u001b[38;5;28mprint\u001b[39m(\u001b[38;5;124m\"\u001b[39m\u001b[38;5;124mGradebook Menu:\u001b[39m\u001b[38;5;124m\"\u001b[39m)\n",
      "\u001b[1;31mNameError\u001b[0m: name '_name_' is not defined"
     ]
    }
   ],
   "source": [
    "import os\n",
    "\n",
    "\n",
    "def input_grades(student_id, subject, grade):\n",
    "    filename = f\"{subject}_grades.txt\"\n",
    "    try:\n",
    "        with open(filename, 'a') as file:\n",
    "            file.write(f\"{student_id}: {grade}\\n\")\n",
    "        print(f\"Grade for {student_id} in {subject} recorded successfully.\")\n",
    "    except FileNotFoundError:\n",
    "        print(f\"Error: File '{filename}' not found.\")\n",
    "    except PermissionError:\n",
    "        print(f\"Error: Permission denied to write to '{filename}'.\")\n",
    "    except Exception as e:\n",
    "        print(f\"An error occurred: {str(e)}\")\n",
    "\n",
    "\n",
    "def view_grades(student_id, subject):\n",
    "    filename = f\"{subject}_grades.txt\"\n",
    "    try:\n",
    "        with open(filename, 'r') as file:\n",
    "            lines = file.readlines()\n",
    "            student_grades = [line.strip() for line in lines if line.startswith(f\"{student_id}: \")]\n",
    "            if student_grades:\n",
    "                print(f\"Grades for {student_id} in {subject}:\")\n",
    "                for grade in student_grades:\n",
    "                    print(grade)\n",
    "            else:\n",
    "                print(f\"No grades found for {student_id} in {subject}.\")\n",
    "    except FileNotFoundError:\n",
    "        print(f\"Error: File '{filename}' not found.\")\n",
    "    except PermissionError:\n",
    "        print(f\"Error: Permission denied to read '{filename}'.\")\n",
    "    except Exception as e:\n",
    "        print(f\"An error occurred: {str(e)}\")\n",
    "\n",
    "\n",
    "if _name_ == \"_main_\":\n",
    "    while True:\n",
    "        print(\"Gradebook Menu:\")\n",
    "        print(\"1. Input Grades\")\n",
    "        print(\"2. View Grades\")\n",
    "        print(\"3. Exit\")\n",
    "        choice = input(\"Enter your choice (1/2/3): \")\n",
    "\n",
    "        if choice == \"1\":\n",
    "            student_id = input(\"Enter Student ID: \")\n",
    "            subject = input(\"Enter Subject: \")\n",
    "            grade = input(\"Enter Grade: \")\n",
    "            input_grades(student_id, subject, grade)\n",
    "        elif choice == \"2\":\n",
    "            student_id = input(\"Enter Student ID: \")\n",
    "            subject = input(\"Enter Subject: \")\n",
    "            view_grades(student_id, subject)\n",
    "        elif choice == \"3\":\n",
    "            print(\"Exiting.\")\n",
    "            break"
   ]
  },
  {
   "cell_type": "code",
   "execution_count": null,
   "id": "c0e7ba77",
   "metadata": {},
   "outputs": [],
   "source": []
  }
 ],
 "metadata": {
  "kernelspec": {
   "display_name": "Python 3 (ipykernel)",
   "language": "python",
   "name": "python3"
  },
  "language_info": {
   "codemirror_mode": {
    "name": "ipython",
    "version": 3
   },
   "file_extension": ".py",
   "mimetype": "text/x-python",
   "name": "python",
   "nbconvert_exporter": "python",
   "pygments_lexer": "ipython3",
   "version": "3.11.4"
  }
 },
 "nbformat": 4,
 "nbformat_minor": 5
}
