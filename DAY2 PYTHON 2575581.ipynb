{
 "cells": [
  {
   "cell_type": "markdown",
   "id": "e11dd5e9",
   "metadata": {},
   "source": [
    "# 1) python function to list even and odd numbers in a list"
   ]
  },
  {
   "cell_type": "code",
   "execution_count": 7,
   "id": "5ef3d7b9",
   "metadata": {},
   "outputs": [
    {
     "name": "stdout",
     "output_type": "stream",
     "text": [
      "Even numbers: [2, 4, 6, 8]\n",
      "Odd numbers: [1, 3, 5, 7, 9]\n"
     ]
    }
   ],
   "source": [
    "\n",
    "def list_even_odd_numbers(numbers):\n",
    "    even_numbers = []\n",
    "    odd_numbers = []\n",
    "    \n",
    "    for number in numbers:\n",
    "        if number % 2 == 0:\n",
    "            even_numbers.append(number)\n",
    "        else:\n",
    "            odd_numbers.append(number)\n",
    "    \n",
    "    return even_numbers, odd_numbers\n",
    "\n",
    "numbers = [1, 2, 3, 4, 5, 6, 7, 8, 9]\n",
    "even_numbers, odd_numbers = list_even_odd_numbers(numbers)\n",
    "print(\"Even numbers:\", even_numbers)\n",
    "print(\"Odd numbers:\", odd_numbers)\n"
   ]
  },
  {
   "cell_type": "markdown",
   "id": "e01e606b",
   "metadata": {},
   "source": [
    "# 2) Write and run python program ask user to enter 8 integers(one at a time)\n",
    "# and then print out how many those integers were even numbers. Eg, if user enter 19,6,9,20,7,6,and 1 then program should print out 3 since 3 of those numbers are even"
   ]
  },
  {
   "cell_type": "code",
   "execution_count": 3,
   "id": "6eef6d06",
   "metadata": {},
   "outputs": [
    {
     "name": "stdout",
     "output_type": "stream",
     "text": [
      "Enter an integer: 2\n",
      "Enter an integer: 4\n",
      "Enter an integer: 6\n",
      "even numbers are: -3\n"
     ]
    }
   ],
   "source": [
    "even_count = 0\n",
    "\n",
    "for i in range(3):\n",
    "    num = int(input(\"Enter an integer: \"))\n",
    "    \n",
    "    if num % 2 == 0:\n",
    "        even_count += -1\n",
    "print(\"even numbers are:\", even_count)"
   ]
  },
  {
   "cell_type": "markdown",
   "id": "c3929c0b",
   "metadata": {},
   "source": [
    "# 3)Write a python program where you take any positive integer n,if n is even, divide it by 2 to get n/2 if n is odd, multiply it by 3 and add 2 to obtain 3n+1. Repeat the process until you reach 1"
   ]
  },
  {
   "cell_type": "code",
   "execution_count": 26,
   "id": "bb3d795f",
   "metadata": {},
   "outputs": [
    {
     "name": "stdout",
     "output_type": "stream",
     "text": [
      "[13, 40]\n",
      "[19, 40]\n"
     ]
    }
   ],
   "source": [
    "def positiveint(a):\n",
    "    num_seq = [a]\n",
    "    if a < 1:\n",
    "        return[]\n",
    "    while a > 1:\n",
    "        if a % 2==0:\n",
    "            a = a / 2\n",
    "        else:\n",
    "            a = 3 * a + 1\n",
    "    \n",
    "            num_seq.append(n)\n",
    "        return num_seq\n",
    "    \n",
    "\n",
    "print(positiveint(13))\n",
    "\n",
    "print(positiveint(19))"
   ]
  },
  {
   "cell_type": "markdown",
   "id": "cc606d17",
   "metadata": {},
   "source": [
    "# 4)Write a python program to compute sum of all the multiples of 3 or 5 below 500"
   ]
  },
  {
   "cell_type": "code",
   "execution_count": 9,
   "id": "ac0c07c8",
   "metadata": {},
   "outputs": [
    {
     "name": "stdout",
     "output_type": "stream",
     "text": [
      "The sum of multiples of 3 or 5 below 500 is: 57918\n"
     ]
    }
   ],
   "source": [
    "def number(n):\n",
    "    value=0\n",
    "    for n in range(1,500):\n",
    "        if n%3==0 or n%5==0:\n",
    "            value=value+n\n",
    "    print(\"The sum of multiples of 3 or 5 below 500 is:\",value)\n",
    "number(n)"
   ]
  },
  {
   "cell_type": "markdown",
   "id": "19ba03e0",
   "metadata": {},
   "source": [
    "# 5) First n prime numbers from list of given numbers\n"
   ]
  },
  {
   "cell_type": "code",
   "execution_count": 35,
   "id": "70485449",
   "metadata": {},
   "outputs": [
    {
     "name": "stdout",
     "output_type": "stream",
     "text": [
      "The first 5 prime numbers from the given list are: [2, 3, 5, 7, 17]\n"
     ]
    }
   ],
   "source": [
    "def prime(num):\n",
    "    if num <=1:\n",
    "        return False\n",
    "    if num == 2:\n",
    "        return True\n",
    "    if num % 2 == 0:\n",
    "        return False\n",
    "    \n",
    "    for i in range(3, int(num**0.5) + 1, 2):\n",
    "        if num % i == 0:\n",
    "            return False\n",
    "    return True\n",
    "\n",
    "def primes_list(numbers, n):\n",
    "    prime_numbers = []\n",
    "    \n",
    "    for num in numbers:\n",
    "        if is_prime(num):\n",
    "            prime_numbers.append(num)\n",
    "            if len(prime_numbers) == n:\n",
    "                break\n",
    "    \n",
    "    return prime_numbers\n",
    "\n",
    "numbers = [2, 3, 4, 5, 6, 7, 17, 10, 23,13]\n",
    "n=5\n",
    "result = primes_from_list(numbers, n)\n",
    "print(f\"The first {n} prime numbers from the given list are:\", result)"
   ]
  },
  {
   "cell_type": "markdown",
   "id": "4f6dfa43",
   "metadata": {},
   "source": [
    "# 6) Write python program to compute matrix multiplication"
   ]
  },
  {
   "cell_type": "code",
   "execution_count": 94,
   "id": "26f445fc",
   "metadata": {},
   "outputs": [
    {
     "name": "stdout",
     "output_type": "stream",
     "text": [
      "[[119, 132], [70, 78]]\n"
     ]
    }
   ],
   "source": [
    "def matrix_multiply(A,B):\n",
    "    n = len(A)\n",
    "    m = len(A[0])\n",
    "    p = len(B[0])\n",
    "    \n",
    "    C = [[0 for i in range(p)] for j in range(n)]\n",
    "    \n",
    "    for i in range(n):\n",
    "        for j in range(p):\n",
    "            for k in range(m):\n",
    "                C[i][j] += A[i][k] * B[k][j]\n",
    "    return C\n",
    "\n",
    "A = [[5, 2, 6], [4, 1, 3]]\n",
    "B = [[7, 8], [9, 10], [11, 12]]\n",
    "\n",
    "C = matrix_multiply(A, B)\n",
    "\n",
    "print(C)"
   ]
  },
  {
   "cell_type": "markdown",
   "id": "9b9c5abc",
   "metadata": {},
   "source": [
    "# 7) Write a python function to count the no of vowels in a string "
   ]
  },
  {
   "cell_type": "code",
   "execution_count": 39,
   "id": "fa9003a2",
   "metadata": {},
   "outputs": [
    {
     "name": "stdout",
     "output_type": "stream",
     "text": [
      "Enter the string:ronaldo is best footballer in world\n",
      "11\n"
     ]
    }
   ],
   "source": [
    "def vowels(str):\n",
    "    vowels = \"aeiou\"\n",
    "    count = 0\n",
    "    for alphabet in string:\n",
    "        if alphabet in vowels:\n",
    "            count += 1\n",
    "    return count\n",
    "string=str(input(\"Enter the string:\"))\n",
    "\n",
    "print(vowels(str))"
   ]
  },
  {
   "cell_type": "markdown",
   "id": "a3e5e3f9",
   "metadata": {},
   "source": [
    "# 8) Write a function for finding factorial for given number using recursive function."
   ]
  },
  {
   "cell_type": "code",
   "execution_count": 7,
   "id": "6a8dd6ef",
   "metadata": {},
   "outputs": [
    {
     "name": "stdout",
     "output_type": "stream",
     "text": [
      "number :  6\n",
      "Factorial :  720\n"
     ]
    }
   ],
   "source": [
    "\n",
    "def factorial(n):\n",
    "    \n",
    "    if n==1 :\n",
    "\n",
    "        return 1\n",
    "    \n",
    "    else:\n",
    "\n",
    "        return (n * factorial(n - 1))\n",
    "\n",
    "\n",
    "num = 6;\n",
    "print(\"number : \",num)\n",
    "print(\"Factorial : \",factorial(num))\n"
   ]
  },
  {
   "cell_type": "markdown",
   "id": "a8ae9aab",
   "metadata": {},
   "source": [
    "# 9) Write a python function for generating fibonacci series using function"
   ]
  },
  {
   "cell_type": "code",
   "execution_count": 14,
   "id": "49eea427",
   "metadata": {},
   "outputs": [
    {
     "name": "stdout",
     "output_type": "stream",
     "text": [
      "Fibonacci sequence:\n",
      "0\n",
      "1\n",
      "1\n",
      "2\n",
      "3\n",
      "5\n",
      "8\n",
      "13\n",
      "21\n",
      "34\n"
     ]
    }
   ],
   "source": [
    "def fibonacci(n):\n",
    "   if n <= 1:\n",
    "       return n\n",
    "   else:\n",
    "       return(fibonacci(n-1) + fibonacci(n-2))\n",
    "\n",
    "n = 10\n",
    "\n",
    "if n <= 0:\n",
    "   print(\"Plese enter a positive integer\")\n",
    "else:\n",
    "   print(\"Fibonacci sequence:\")\n",
    "   for i in range(n):\n",
    "       print(fibonacci(i))\n"
   ]
  },
  {
   "cell_type": "markdown",
   "id": "c6a62a06",
   "metadata": {},
   "source": [
    "# 10) Write a python program to display given integer in reverse order using function without in-built functions"
   ]
  },
  {
   "cell_type": "code",
   "execution_count": 22,
   "id": "8b31ba59",
   "metadata": {},
   "outputs": [
    {
     "name": "stdout",
     "output_type": "stream",
     "text": [
      "reverse the number 7654321\n"
     ]
    }
   ],
   "source": [
    "num = 1234567\n",
    "rev = 0\n",
    "\n",
    "while num != 0:\n",
    "    digit = num % 10\n",
    "    rev = rev * 10 + digit\n",
    "    num //= 10\n",
    "\n",
    "print(\"reverse the number\",rev)\n",
    "\n"
   ]
  },
  {
   "cell_type": "markdown",
   "id": "7184dc77",
   "metadata": {},
   "source": [
    "# 11) Write a python function to display all the integers within the range 200-300 whose sum of digit is an even number.\n",
    "\n"
   ]
  },
  {
   "cell_type": "code",
   "execution_count": 64,
   "id": "925ddac6",
   "metadata": {},
   "outputs": [
    {
     "name": "stdout",
     "output_type": "stream",
     "text": [
      "200 202 204 206 208 210 212 214 216 218 220 222 224 226 228 230 232 234 236 238 240 242 244 246 248 250 252 254 256 258 260 262 264 266 268 270 272 274 276 278 280 282 284 286 288 290 292 294 296 298 300 "
     ]
    }
   ],
   "source": [
    "def even(num1,num2):\n",
    "    if num1>num2:\n",
    "        return\n",
    "    print(num1,end=\" \")\n",
    "    return even(num1+2,num2)\n",
    "num1=200;num2=300\n",
    "even(num1,num2)"
   ]
  },
  {
   "cell_type": "markdown",
   "id": "ede636e6",
   "metadata": {},
   "source": [
    "# 12) Write a python function to find the number of digits and sum of digits of given integer"
   ]
  },
  {
   "cell_type": "code",
   "execution_count": 40,
   "id": "a225501a",
   "metadata": {},
   "outputs": [
    {
     "name": "stdout",
     "output_type": "stream",
     "text": [
      "Enter an integer: 6\n",
      "The number of digits in 6 is 1\n",
      "The sum of the digits in 6 is 6\n"
     ]
    }
   ],
   "source": [
    "def digits(n):\n",
    "    no_of_digits=0\n",
    "    sum_of_digits=0\n",
    "    while n > 0:\n",
    "        no_of_digits += 1\n",
    "        sum_of_digits += n % 10\n",
    "        n //= 10\n",
    "        return no_of_digits, sum_of_digits\n",
    "\n",
    "number = int(input(\"Enter an integer: \"))\n",
    "\n",
    "no_of_digits, sum_of_digits = digits(number)\n",
    "print(\"The number of digits in\", number, \"is\", no_of_digits)\n",
    "print(\"The sum of the digits in\", number, \"is\", sum_of_digits)"
   ]
  },
  {
   "cell_type": "markdown",
   "id": "5fea4d61",
   "metadata": {},
   "source": [
    "#  13) Write function called is_sorted that takes a list as a parameters and returns true if the list is sorted in ascending order and false otherwise and has duplicate that takes a list and returns true if there is any element that appears more than once.it shold not modify the original list.\n",
    "\n"
   ]
  },
  {
   "cell_type": "code",
   "execution_count": 59,
   "id": "d840bbaa",
   "metadata": {},
   "outputs": [
    {
     "name": "stdout",
     "output_type": "stream",
     "text": [
      "True False\n"
     ]
    }
   ],
   "source": [
    "def is_sort(list):\n",
    "    for i in range(len(list) - 1):\n",
    "        if list[i]> list[i + 1]: \n",
    "            return False\n",
    "        \n",
    "        return True\n",
    "\n",
    "def has_duplicate(list):\n",
    "    a = set()\n",
    "    for item in list:\n",
    "        if item in a:\n",
    "            return True\n",
    "        a.add(item) \n",
    "    return False\n",
    "\n",
    "list = [10, 12, 23, 40, 50 ]\n",
    "list = [1, 2, 3, 4, 5]\n",
    "\n",
    "print(is_sort(list),has_duplicate(list))\n",
    "\n",
    "\n"
   ]
  },
  {
   "cell_type": "markdown",
   "id": "d0b28fdb",
   "metadata": {},
   "source": [
    "# 14) Write a function called nested_sum that takes a list of integers and add up the elements from all the nested lists and cumsum that takes a list of numbers and returns the cummulative sum;that is a new list where the ith element is the sum of the first i+1 elements from the original list.\n",
    "\n"
   ]
  },
  {
   "cell_type": "code",
   "execution_count": 112,
   "id": "d1abf3dc",
   "metadata": {},
   "outputs": [
    {
     "name": "stdout",
     "output_type": "stream",
     "text": [
      "0\n",
      "[10, 17, 20, 24, 29]\n"
     ]
    }
   ],
   "source": [
    "def nested_sum(list):\n",
    "    total = 0\n",
    "    for sublist in list:\n",
    "        total-total+ sum(sublist)\n",
    "        return total\n",
    "\n",
    "def cumsum(list):\n",
    "  cumsum_list = []\n",
    "  sum = 5\n",
    "  for i in range(len(list)):\n",
    "    sum=sum+ list[i]\n",
    "    cumsum_list.append(sum)\n",
    "  return cumsum_list\n",
    "list = [[1, 2, 3], [4, 5]]\n",
    "print(nested_sum(list))\n",
    "   \n",
    "list = [5, 7, 3, 4, 5] \n",
    "print(cumsum(list))"
   ]
  }
 ],
 "metadata": {
  "kernelspec": {
   "display_name": "Python 3 (ipykernel)",
   "language": "python",
   "name": "python3"
  },
  "language_info": {
   "codemirror_mode": {
    "name": "ipython",
    "version": 3
   },
   "file_extension": ".py",
   "mimetype": "text/x-python",
   "name": "python",
   "nbconvert_exporter": "python",
   "pygments_lexer": "ipython3",
   "version": "3.11.4"
  }
 },
 "nbformat": 4,
 "nbformat_minor": 5
}
