{
 "cells": [
  {
   "cell_type": "markdown",
   "id": "0dce9aad",
   "metadata": {},
   "source": [
    "# 1) Manipulate using a list:\n",
    "   1. to add new elemets to end of the list\n",
    "   2. to reverse elements in the list\n",
    "   3. to display same list of elements in the list\n",
    "   4. to concatenate two list\n",
    "   5. to sort the elements in the list ascending order"
   ]
  },
  {
   "cell_type": "code",
   "execution_count": 1,
   "id": "ccd2c8fd",
   "metadata": {},
   "outputs": [
    {
     "data": {
      "text/plain": [
       "[1, 2, 3, 4]"
      ]
     },
     "execution_count": 1,
     "metadata": {},
     "output_type": "execute_result"
    }
   ],
   "source": [
    "ls=[1,2,3,4]\n",
    "ls"
   ]
  },
  {
   "cell_type": "code",
   "execution_count": 5,
   "id": "f2cc643f",
   "metadata": {},
   "outputs": [
    {
     "name": "stdout",
     "output_type": "stream",
     "text": [
      "after added listed elements are [1, 2, 3, 4, 100, 100, 100, 25, 30, 200, 100, 25, 30, 200]\n"
     ]
    }
   ],
   "source": [
    "#1 to add new elemets to end of the list\n",
    "ls.append(100) #append is used to add single element at end of the list.\n",
    "\n",
    "#to add multiple elements extend\n",
    "ls.extend([25,30,200])\n",
    "print(\"after added listed elements are\",ls)"
   ]
  },
  {
   "cell_type": "code",
   "execution_count": 9,
   "id": "96c72b16",
   "metadata": {},
   "outputs": [
    {
     "name": "stdout",
     "output_type": "stream",
     "text": [
      "after reverse the elements are [3, 2, 1]\n"
     ]
    }
   ],
   "source": [
    "#2 to reverse elements in the list\n",
    "ls = [1, 2, 3]\n",
    "ls.reverse()  # Reverses the elements in the list\n",
    "print(\"after reverse the elements are\",ls)"
   ]
  },
  {
   "cell_type": "code",
   "execution_count": 18,
   "id": "ee4b520a",
   "metadata": {},
   "outputs": [
    {
     "name": "stdout",
     "output_type": "stream",
     "text": [
      "the elements printed multiple times: [1, 2, 3, 80, 40, 50]\n"
     ]
    }
   ],
   "source": [
    "#3 to display same list of elements in the list\n",
    "ls= [1,2,3,80,40,50]\n",
    "print('the elements printed multiple times:',ls) \n"
   ]
  },
  {
   "cell_type": "code",
   "execution_count": 14,
   "id": "3dc94689",
   "metadata": {},
   "outputs": [
    {
     "name": "stdout",
     "output_type": "stream",
     "text": [
      "after concatenation my two list [1, 2, 3, 4, 5, 4, 5, 6]\n"
     ]
    }
   ],
   "source": [
    "#4 to concatenate two list\n",
    "ls1= [1, 2, 3]\n",
    "ls2 = [4, 5, 6]\n",
    "concatenated_ls = ls1+ls2  # Using the + operator # or\n",
    "ls.extend(ls2)  # Using the extend() method\n",
    "print(\"after concatenation my two list\",ls)"
   ]
  },
  {
   "cell_type": "code",
   "execution_count": 13,
   "id": "392de8ce",
   "metadata": {},
   "outputs": [
    {
     "name": "stdout",
     "output_type": "stream",
     "text": [
      "ascending [1, 2, 3, 4, 5]\n"
     ]
    }
   ],
   "source": [
    "#5 to sort the elements in the list ascending order\n",
    "ls = [3, 1, 2, 5, 4]\n",
    "ls.sort()  # Sorts the list in ascending order in-place\n",
    "print(\"ascending\",ls)"
   ]
  },
  {
   "cell_type": "markdown",
   "id": "c477420e",
   "metadata": {},
   "source": [
    "# Python program to do in tuples\n",
    "   1. Manipulate using tuples \n",
    "   2. to add new elemets to end of the tuples\n",
    "   3. to reverse elements in the list\n",
    "   4. to display elements of same tuples in different times\n",
    "   5. to concatenate two tuples\n",
    "   6. to sort the elements in the tuples ascending order\n",
    "   "
   ]
  },
  {
   "cell_type": "code",
   "execution_count": 17,
   "id": "5f22830e",
   "metadata": {},
   "outputs": [
    {
     "data": {
      "text/plain": [
       "(1, 5, 6, 'xyz', 20, 50)"
      ]
     },
     "execution_count": 17,
     "metadata": {},
     "output_type": "execute_result"
    }
   ],
   "source": [
    "#1 Manipulate using tuples \n",
    "tu=(1,5,6,'xyz',20,50)\n",
    "tu"
   ]
  },
  {
   "cell_type": "code",
   "execution_count": 11,
   "id": "6aab3438",
   "metadata": {},
   "outputs": [
    {
     "name": "stdout",
     "output_type": "stream",
     "text": [
      "after add a new element: (30, 'yz', 99, 'apple', 100)\n"
     ]
    }
   ],
   "source": [
    "#2 to add new elemets to end of the tuples\n",
    "\n",
    "tu2=('apple',100)\n",
    "tu1=(30,'yz',99)\n",
    "tuple=tu1 + tu2\n",
    "print('after add a new element:',tuple)"
   ]
  },
  {
   "cell_type": "code",
   "execution_count": 21,
   "id": "e5d926c3",
   "metadata": {},
   "outputs": [
    {
     "name": "stdout",
     "output_type": "stream",
     "text": [
      "reverse element: [100, 'apple', 99, 'yz', 30]\n"
     ]
    }
   ],
   "source": [
    "#3 to reverse elements in the list\n",
    "tuple=([30, 'yz', 99, 'apple', 100]) \n",
    "\n",
    "tuple.reverse()\n",
    "\n",
    "print('reverse element:',tuple)\n"
   ]
  },
  {
   "cell_type": "code",
   "execution_count": 13,
   "id": "1cf170ef",
   "metadata": {},
   "outputs": [
    {
     "name": "stdout",
     "output_type": "stream",
     "text": [
      "(30, 'yz', 99, 'apple', 100, 60, 44, 'blue', 2, 100)\n"
     ]
    }
   ],
   "source": [
    "#5 to concatenate two tuples\n",
    "\n",
    "tuple1=(30, 'yz', 99, 'apple', 100)\n",
    "tuple2=(60,44,'blue',2,100)\n",
    "\n",
    "tuple=tuple1+tuple2\n",
    "print(tuple)\n"
   ]
  },
  {
   "cell_type": "code",
   "execution_count": 14,
   "id": "1d4ac5ef",
   "metadata": {},
   "outputs": [
    {
     "name": "stdout",
     "output_type": "stream",
     "text": [
      "[1, 2, 3, 4, 5]\n"
     ]
    }
   ],
   "source": [
    "#6 to sort the elements in the tuples ascending order\n",
    "\n",
    "tuple=[5,2,3,1,4]\n",
    "tuple.sort()\n",
    "print(tuple)"
   ]
  },
  {
   "cell_type": "code",
   "execution_count": 25,
   "id": "b7c28480",
   "metadata": {},
   "outputs": [
    {
     "name": "stdout",
     "output_type": "stream",
     "text": [
      "(30, 'yz', 99, 'apple', 100, 30, 'yz', 99, 'apple', 100, 30, 'yz', 99, 'apple', 100, 30, 'yz', 99, 'apple', 100, 30, 'yz', 99, 'apple', 100)\n"
     ]
    }
   ],
   "source": [
    "#4 to display elements of same tuples in different times\n",
    "\n",
    "tuple=(30, 'yz', 99, 'apple', 100)*5\n",
    "\n",
    "print(tuple)"
   ]
  },
  {
   "cell_type": "markdown",
   "id": "e67f2b34",
   "metadata": {},
   "source": [
    "# 3.Write a python program to implement the following using list"
   ]
  },
  {
   "cell_type": "code",
   "execution_count": null,
   "id": "b77c4802",
   "metadata": {},
   "outputs": [],
   "source": [
    "#1) Create a list with integers(min 10 numbers)\n",
    "\n",
    "lst=[10,22,32,54,64,18,78,2,1,22]"
   ]
  },
  {
   "cell_type": "code",
   "execution_count": 31,
   "id": "2c236a4e",
   "metadata": {},
   "outputs": [
    {
     "data": {
      "text/plain": [
       "[22]"
      ]
     },
     "execution_count": 31,
     "metadata": {},
     "output_type": "execute_result"
    }
   ],
   "source": [
    "#2) Display list number in the list\n",
    "lst=[10,22,32,54,64,18,78,2,1,22]\n",
    "lst[-1:]"
   ]
  },
  {
   "cell_type": "code",
   "execution_count": 32,
   "id": "393436bb",
   "metadata": {},
   "outputs": [
    {
     "data": {
      "text/plain": [
       "[10, 22, 32, 54]"
      ]
     },
     "execution_count": 32,
     "metadata": {},
     "output_type": "execute_result"
    }
   ],
   "source": [
    "#3 display the value from the list[0:4]\n",
    "lst=[10,22,32,54,64,18,78,2,1,22]\n",
    "lst[0:4]"
   ]
  },
  {
   "cell_type": "code",
   "execution_count": 33,
   "id": "85117d3d",
   "metadata": {},
   "outputs": [
    {
     "data": {
      "text/plain": [
       "[32, 54, 64, 18, 78, 2, 1, 22]"
      ]
     },
     "execution_count": 33,
     "metadata": {},
     "output_type": "execute_result"
    }
   ],
   "source": [
    "#4 display the value from the list[2:]\n",
    "\n",
    "lst=[10,22,32,54,64,18,78,2,1,22]\n",
    "lst[2:]\n"
   ]
  },
  {
   "cell_type": "code",
   "execution_count": 34,
   "id": "938a9605",
   "metadata": {},
   "outputs": [
    {
     "data": {
      "text/plain": [
       "[10, 22, 32, 54, 64, 18]"
      ]
     },
     "execution_count": 34,
     "metadata": {},
     "output_type": "execute_result"
    }
   ],
   "source": [
    "#5 display the value from the list[:6]\n",
    "lst[:6]\n"
   ]
  },
  {
   "cell_type": "markdown",
   "id": "ed7eab91",
   "metadata": {},
   "source": [
    "# 4 . Write a python program:\n",
    " \n",
    "  #tuple1=(10,30,40,60,70)\n",
    "  \n"
   ]
  },
  {
   "cell_type": "code",
   "execution_count": 39,
   "id": "b4b3e887",
   "metadata": {},
   "outputs": [
    {
     "data": {
      "text/plain": [
       "(10, 30)"
      ]
     },
     "execution_count": 39,
     "metadata": {},
     "output_type": "execute_result"
    }
   ],
   "source": [
    "#1) Display the element 10 and 50 from tuple1\n",
    "\n",
    "tuple1=(10,30,40,60,70,80)\n",
    "    \n",
    "tuple1[0:2]\n"
   ]
  },
  {
   "cell_type": "code",
   "execution_count": 38,
   "id": "f80d07f6",
   "metadata": {},
   "outputs": [
    {
     "data": {
      "text/plain": [
       "5"
      ]
     },
     "execution_count": 38,
     "metadata": {},
     "output_type": "execute_result"
    }
   ],
   "source": [
    "#2) display the length of tuple1\n",
    "tuple1=(10,30,40,60,70,80)\n",
    "\n",
    "len(tuple1)\n"
   ]
  },
  {
   "cell_type": "code",
   "execution_count": 40,
   "id": "8d1c9dcb",
   "metadata": {},
   "outputs": [
    {
     "data": {
      "text/plain": [
       "10"
      ]
     },
     "execution_count": 40,
     "metadata": {},
     "output_type": "execute_result"
    }
   ],
   "source": [
    "#3) find minimum element from length of tuple1\n",
    "\n",
    "tuple1=(10,30,40,60,70,80)\n",
    "min(tuple1)\n"
   ]
  },
  {
   "cell_type": "code",
   "execution_count": 41,
   "id": "aa433bbc",
   "metadata": {},
   "outputs": [
    {
     "data": {
      "text/plain": [
       "290"
      ]
     },
     "execution_count": 41,
     "metadata": {},
     "output_type": "execute_result"
    }
   ],
   "source": [
    "#4) to add all element in the tuple1\n",
    "\n",
    "tuple1=(10,30,40,60,70,80)\n",
    "sum(tuple1)"
   ]
  },
  {
   "cell_type": "code",
   "execution_count": 47,
   "id": "3dd39a28",
   "metadata": {},
   "outputs": [
    {
     "name": "stdout",
     "output_type": "stream",
     "text": [
      "(10, 30, 40, 60, 70, 80, 10, 30, 40, 60, 70, 80, 10, 30, 40, 60, 70, 80, 10, 30, 40, 60, 70, 80, 10, 30, 40, 60, 70, 80, 10, 30, 40, 60, 70, 80, 10, 30, 40, 60, 70, 80, 10, 30, 40, 60, 70, 80, 10, 30, 40, 60, 70, 80, 10, 30, 40, 60, 70, 80)\n"
     ]
    }
   ],
   "source": [
    "#5) to display the same tuple1 multiple times\n",
    "\n",
    "tuple1=(10,30,40,60,70,80)\n",
    "\n",
    "tuple=tuple1 * 10\n",
    "print(tuple)"
   ]
  },
  {
   "cell_type": "markdown",
   "id": "28d55014",
   "metadata": {},
   "source": [
    "# 5. Write python program"
   ]
  },
  {
   "cell_type": "code",
   "execution_count": 48,
   "id": "d38ff330",
   "metadata": {},
   "outputs": [
    {
     "data": {
      "text/plain": [
       "13"
      ]
     },
     "execution_count": 48,
     "metadata": {},
     "output_type": "execute_result"
    }
   ],
   "source": [
    "#1)to calculate the length of string\n",
    "\n",
    "string='Hello kowshik'\n",
    "\n",
    "len(string)"
   ]
  },
  {
   "cell_type": "code",
   "execution_count": 2,
   "id": "26b5226c",
   "metadata": {},
   "outputs": [
    {
     "data": {
      "text/plain": [
       "'kihswok olleH'"
      ]
     },
     "execution_count": 2,
     "metadata": {},
     "output_type": "execute_result"
    }
   ],
   "source": [
    "#2) reverse word in string\n",
    "\n",
    "string='Hello kowshik'\n",
    "\n",
    "string[::-1]"
   ]
  },
  {
   "cell_type": "code",
   "execution_count": 51,
   "id": "92487c36",
   "metadata": {},
   "outputs": [
    {
     "name": "stdout",
     "output_type": "stream",
     "text": [
      "Hello kowshikHello kowshikHello kowshikHello kowshikHello kowshik\n"
     ]
    }
   ],
   "source": [
    "#3)to display the same string multiple times\n",
    "\n",
    "str= string * 5\n",
    "\n",
    "print(str)"
   ]
  },
  {
   "cell_type": "code",
   "execution_count": 52,
   "id": "010dcb02",
   "metadata": {},
   "outputs": [
    {
     "name": "stdout",
     "output_type": "stream",
     "text": [
      "Hello kowshik i am kowshik\n"
     ]
    }
   ],
   "source": [
    "#4)to concatenate two strings\n",
    "\n",
    "str1='i am kowshik'\n",
    "a=string +\" \"+str1\n",
    "print(a)\n"
   ]
  },
  {
   "cell_type": "code",
   "execution_count": 53,
   "id": "9b7b5a84",
   "metadata": {},
   "outputs": [
    {
     "data": {
      "text/plain": [
       "'India'"
      ]
     },
     "execution_count": 53,
     "metadata": {},
     "output_type": "execute_result"
    }
   ],
   "source": [
    "#5) str1=\"South India\",using string slicing to display\"India\"\n",
    "\n",
    "str1='South India'\n",
    "str1[6:11]"
   ]
  },
  {
   "cell_type": "markdown",
   "id": "82e10918",
   "metadata": {},
   "source": [
    "# 6) Perform the following"
   ]
  },
  {
   "cell_type": "code",
   "execution_count": 3,
   "id": "47403d8d",
   "metadata": {},
   "outputs": [
    {
     "name": "stdout",
     "output_type": "stream",
     "text": [
      "dictionary: {'name': 'kowshik', 'age': 23, 'place': 'neyveli'}\n"
     ]
    }
   ],
   "source": [
    "#1)Creating the dictionary\n",
    "\n",
    "dictionary={'name':'kowshik','age':23,'place':'neyveli'}\n",
    "\n",
    "print(\"dictionary:\",dictionary)"
   ]
  },
  {
   "cell_type": "code",
   "execution_count": 4,
   "id": "9968fe46",
   "metadata": {},
   "outputs": [
    {
     "data": {
      "text/plain": [
       "dict_values(['kowshik', 23, 'neyveli'])"
      ]
     },
     "execution_count": 4,
     "metadata": {},
     "output_type": "execute_result"
    }
   ],
   "source": [
    "#2)accesing values and keys in dictionary\n",
    "\n",
    "dictionary.values()"
   ]
  },
  {
   "cell_type": "code",
   "execution_count": 6,
   "id": "23b36cb2",
   "metadata": {},
   "outputs": [
    {
     "data": {
      "text/plain": [
       "dict_keys(['name', 'age', 'place'])"
      ]
     },
     "execution_count": 6,
     "metadata": {},
     "output_type": "execute_result"
    }
   ],
   "source": [
    "dictionary.keys()"
   ]
  },
  {
   "cell_type": "code",
   "execution_count": 8,
   "id": "7d38501e",
   "metadata": {},
   "outputs": [
    {
     "name": "stdout",
     "output_type": "stream",
     "text": [
      "{'name': 'Kowshik', 'age': 23, 'place': 'neyveli'}\n"
     ]
    }
   ],
   "source": [
    "#3) updating the dictionary using a function\n",
    "\n",
    "dictionary.update({'name':'Kowshik'})\n",
    "print(dictionary)"
   ]
  },
  {
   "cell_type": "code",
   "execution_count": 9,
   "id": "3da8de4d",
   "metadata": {},
   "outputs": [
    {
     "name": "stdout",
     "output_type": "stream",
     "text": [
      "{}\n"
     ]
    }
   ],
   "source": [
    "#4) clear and delete the dictionary values\n",
    "\n",
    "dictionary.clear() \n",
    " \n",
    "print(dictionary) "
   ]
  },
  {
   "cell_type": "markdown",
   "id": "0ebe5d8c",
   "metadata": {},
   "source": [
    "# 7) python program to insert a number to any position in a list"
   ]
  },
  {
   "cell_type": "code",
   "execution_count": 17,
   "id": "322504dc",
   "metadata": {},
   "outputs": [
    {
     "name": "stdout",
     "output_type": "stream",
     "text": [
      "['10', '1', '2', '8', '14', '50']\n"
     ]
    }
   ],
   "source": [
    "list = ['1','2', '8','14','50']\n",
    "list.insert(0, '10')\n",
    "print(list)"
   ]
  },
  {
   "cell_type": "markdown",
   "id": "d8d91a9e",
   "metadata": {},
   "source": [
    "# 8) python program to delete an element  from a list to index"
   ]
  },
  {
   "cell_type": "code",
   "execution_count": 18,
   "id": "6f8352d4",
   "metadata": {},
   "outputs": [
    {
     "name": "stdout",
     "output_type": "stream",
     "text": [
      "[14, 6, 8, 7, 6, 2, 1, 10, 18]\n"
     ]
    }
   ],
   "source": [
    "list = [14, 6, 8, 7, 6, 9, 2, 1, 10, 18]\n",
    "\n",
    "del list[5]\n",
    "\n",
    "print(list)"
   ]
  },
  {
   "cell_type": "markdown",
   "id": "b96fdce6",
   "metadata": {},
   "source": [
    "# 9)write a program to display a number from 1 to 100"
   ]
  },
  {
   "cell_type": "code",
   "execution_count": 20,
   "id": "b1c59b55",
   "metadata": {},
   "outputs": [
    {
     "name": "stdout",
     "output_type": "stream",
     "text": [
      "1 2 3 4 5 6 7 8 9 10 11 12 13 14 15 16 17 18 19 20 21 22 23 24 25 26 27 28 29 30 31 32 33 34 35 36 37 38 39 40 41 42 43 44 45 46 47 48 49 50 51 52 53 54 55 56 57 58 59 60 61 62 63 64 65 66 67 68 69 70 71 72 73 74 75 76 77 78 79 80 81 82 83 84 85 86 87 88 89 90 91 92 93 94 95 96 97 98 99 100 "
     ]
    }
   ],
   "source": [
    "i = 1\n",
    "while i <= 100:\n",
    "    print(i, end=\" \")\n",
    "    i += 1"
   ]
  },
  {
   "cell_type": "markdown",
   "id": "51b4e376",
   "metadata": {},
   "source": [
    "# 10) Write a python program to find sum of all items in tuple "
   ]
  },
  {
   "cell_type": "code",
   "execution_count": 23,
   "id": "c4a9caed",
   "metadata": {},
   "outputs": [
    {
     "name": "stdout",
     "output_type": "stream",
     "text": [
      "147\n"
     ]
    }
   ],
   "source": [
    "tuple = (10, 20, 30, 80, 7)\n",
    "\n",
    "result = sum(tuple)\n",
    "print(result)  \n"
   ]
  },
  {
   "cell_type": "code",
   "execution_count": null,
   "id": "92f6a7b4",
   "metadata": {},
   "outputs": [],
   "source": [
    "#12) A list of words given.Find the words from the list that have their second character in upper case\n"
   ]
  },
  {
   "cell_type": "code",
   "execution_count": 29,
   "id": "e2ed6e38",
   "metadata": {},
   "outputs": [
    {
     "name": "stdout",
     "output_type": "stream",
     "text": [
      "['hOw', 'ARe']\n"
     ]
    }
   ],
   "source": [
    "ls=['hello','Dear','hOw','ARe','You']\n",
    "list=[]\n",
    "for word in ls:\n",
    "    if len(word)>=3 and word[1].isupper():\n",
    "        list.append(word)\n",
    "print(list)\n",
    "\n"
   ]
  },
  {
   "cell_type": "markdown",
   "id": "bd154065",
   "metadata": {},
   "source": [
    "# ii) CONTROL STRUCTURES"
   ]
  },
  {
   "cell_type": "code",
   "execution_count": null,
   "id": "bc1f9f7e",
   "metadata": {},
   "outputs": [],
   "source": [
    "#1)Write a python program to find N prime number\n",
    "\n",
    "\n",
    "\n",
    "num = int(input(\"Enter a number: \"))\n",
    "\n",
    "# define a flag variable\n",
    "flag = False\n",
    "\n",
    "if num == 1:\n",
    "    print(num, \"is not a prime number\")\n",
    "elif num > 1:\n",
    "    # check for factors\n",
    "    for i in range(2, num):\n",
    "        if (num % i) == 0:\n",
    "            \n",
    "            flag = True\n",
    "        \n",
    "            break\n",
    "\n",
    "    \n",
    "    if flag:\n",
    "        print(num, \"is not a prime number\")\n",
    "    else:\n",
    "        print(num, \"is a prime number\")"
   ]
  },
  {
   "cell_type": "code",
   "execution_count": null,
   "id": "56cc37f9",
   "metadata": {},
   "outputs": [],
   "source": []
  }
 ],
 "metadata": {
  "kernelspec": {
   "display_name": "Python 3 (ipykernel)",
   "language": "python",
   "name": "python3"
  },
  "language_info": {
   "codemirror_mode": {
    "name": "ipython",
    "version": 3
   },
   "file_extension": ".py",
   "mimetype": "text/x-python",
   "name": "python",
   "nbconvert_exporter": "python",
   "pygments_lexer": "ipython3",
   "version": "3.11.4"
  }
 },
 "nbformat": 4,
 "nbformat_minor": 5
}
