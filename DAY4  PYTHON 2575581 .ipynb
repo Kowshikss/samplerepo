{
 "cells": [
  {
   "cell_type": "markdown",
   "id": "9f1e4cba",
   "metadata": {},
   "source": [
    "# 1). Write a python program with Exception handling to input marks for five subjects Physics, Chemistry, Biology, Mathematics, and Computer. Calculate the percentage and grade according to the following:\n",
    "\n",
    "i) Percentage >= 90% : Grade A\n",
    "\n",
    "ii) Percentage >= 80% : Grade B\n",
    "\n",
    "Percentage> 70% : Grade C\n",
    "\n",
    "iv) Percentage >= 60% : Grade D\n",
    "\n",
    "v) Percentage> 40% : Grade E\n",
    "\n",
    "vi) Percentage < 40%: Grade F"
   ]
  },
  {
   "cell_type": "code",
   "execution_count": 7,
   "id": "ea5e71bd",
   "metadata": {},
   "outputs": [
    {
     "name": "stdout",
     "output_type": "stream",
     "text": [
      "enter the physics mark:80\n",
      "enter the chemistry mark:75\n",
      "enter the biology mark:80\n",
      "enter the mathematics mark:80\n",
      "enter the computer mark:95\n",
      "Percentage: 82.0 %\n",
      "Grade: B\n"
     ]
    }
   ],
   "source": [
    "def cal_grade(per):\n",
    "    if per > 90:\n",
    "        return 'A'\n",
    "    if per >= 80:\n",
    "        return 'B'\n",
    "    if per >= 70:\n",
    "        return 'C'\n",
    "    if per >=60:\n",
    "        return 'D'\n",
    "    if per >= 40:\n",
    "        return 'E'\n",
    "    else:\n",
    "        return 'F'\n",
    "\n",
    "def grade():\n",
    "    try:\n",
    "        physiscs=int(input(\"enter the physics mark:\"))\n",
    "        chemistry=int(input(\"enter the chemistry mark:\"))\n",
    "        biology=int(input(\"enter the biology mark:\"))\n",
    "        maths=int(input(\"enter the mathematics mark:\"))\n",
    "        computer=int(input(\"enter the computer mark:\"))\n",
    "        \n",
    "        total_marks= physiscs+chemistry+biology+maths+computer\n",
    "        per=total_marks/500*100\n",
    "        grade=cal_grade(per)\n",
    "        print(\"Percentage:\", per, \"%\")\n",
    "        print(\"Grade:\", grade)\n",
    "        \n",
    "    except ValueError:\n",
    "            print(\"you entered invalid mark. Please enter integers only.\")\n",
    "grade()"
   ]
  },
  {
   "cell_type": "markdown",
   "id": "8b3dc149",
   "metadata": {},
   "source": [
    "# 2) Write a python program with Exception handling to input electricity unit charges and calculate the total electricity bill according to the given condition:\n",
    "\n",
    "0 For the first 50 units Rs. 0.50/unit\n",
    "\n",
    "For the next 100 units Rs. 0.75/unit\n",
    "\n",
    "For the next 100 units Rs. 1.20/unit\n",
    "\n",
    "IV) For units above 250 Rs. 1.50/unit\n",
    "\n",
    "v) An additional surcharge of 20% is added to the bill."
   ]
  },
  {
   "cell_type": "code",
   "execution_count": 2,
   "id": "9ab38dcd",
   "metadata": {},
   "outputs": [
    {
     "name": "stdout",
     "output_type": "stream",
     "text": [
      "how many units consumed:1000\n",
      "Total electricity bill: Rs. 2.4\n"
     ]
    }
   ],
   "source": [
    "def cal_electricity_bill(units):\n",
    "    surcharge=0.20\n",
    "    charges={0:0.50,50:0.75,150:1.20,250:1.50}\n",
    "    total_charges = 0\n",
    "    \n",
    "    for unit in range(units + 1):\n",
    "        if unit in charges:\n",
    "            total_charges += charges[unit]\n",
    "        else:\n",
    "            total_charges += 1.50\n",
    "            total_bill = total_charges * (1 + surcharge)\n",
    "            return total_bill\n",
    "        \n",
    "def consume():\n",
    "    try:\n",
    "        units = int(input(\"how many units consumed:\"))\n",
    "        \n",
    "        bill = cal_electricity_bill(units)\n",
    "        \n",
    "        print(\"Total electricity bill: Rs.\", bill)\n",
    "    \n",
    "    except ValueError:\n",
    "        \n",
    "        print(\"Invalid units entered\")\n",
    "consume()"
   ]
  },
  {
   "cell_type": "markdown",
   "id": "3a09e630",
   "metadata": {},
   "source": [
    "# 3) Write a Python program to implement word count using command line arguments.\n",
    "\n",
    "i) Create a text document \"apple.txt\" whch contains text for wordcount.\n",
    "\n",
    "ii) Create a wordcount program which calls the \"apple.txt\" document by opening the file.\n",
    "\n",
    "1) If the word is present again in the \"aaple.txt\",the wordcount is incremented by I until all the words are counted in the document.\n",
    "\n",
    "iv) Close the file.\n",
    "\n",
    "v) Create a command.py program which imports the wordcount.py program. vi) Count the number of words using command line arguments.\n",
    "\n",
    "vil) Print each word and its count."
   ]
  },
  {
   "cell_type": "code",
   "execution_count": 1,
   "id": "e3628617",
   "metadata": {},
   "outputs": [
    {
     "name": "stdout",
     "output_type": "stream",
     "text": [
      "Enter a number (1-7) to represent a weekday: 5\n",
      "The weekday is: Thursday\n"
     ]
    }
   ],
   "source": [
    "try:\n",
    "    day_number = int(input(\"Enter a number (1-7) to represent a weekday: \"))\n",
    "\n",
    "\n",
    "    if 1 <= day_number <= 7:\n",
    "        \n",
    "        weekdays = [\"Sunday\", \"Monday\", \"Tuesday\", \"Wednesday\", \"Thursday\", \"Friday\", \"Saturday\"]\n",
    "\n",
    "    \n",
    "        selected_weekday = weekdays[day_number - 1]\n",
    "\n",
    "        \n",
    "        print(f\"The weekday is: {selected_weekday}\")\n",
    "    else:\n",
    "        print(\"Invalid input. Please enter a number between 1 and 7.\")\n",
    "except ValueError:\n",
    "    print(\"Invalid input. Please enter a valid numeric value.\")\n",
    "except Exception as e:\n",
    "    print(f\"An error occurred: {e}\")"
   ]
  },
  {
   "cell_type": "markdown",
   "id": "883dd5a3",
   "metadata": {},
   "source": [
    "# 4.)Write a Python program to implement word count using command line arguments.\n",
    "\n",
    "i) Create a text document \"apple.txt\" whch contains text for wordcount.\n",
    "\n",
    "ii) Create a wordcount program which calls the \"apple.txt\" document by opening the file.\n",
    "\n",
    "ii) If the word is present again in the \"aaple.txt\",the wordcount is incremented by I until all the words are counted in the document.\n",
    "\n",
    "iv) Close the file.\n",
    "\n",
    "v) Create a command.py program which imports the wordcount.py program. line arguments.\n",
    "\n",
    "vi) Count the number of words using command\n",
    "\n",
    "vii) Print each word and its count."
   ]
  },
  {
   "cell_type": "code",
   "execution_count": 15,
   "id": "5ad88566",
   "metadata": {},
   "outputs": [
    {
     "name": "stdout",
     "output_type": "stream",
     "text": [
      "Atleast give one file as arguement\n"
     ]
    },
    {
     "ename": "ModuleNotFoundError",
     "evalue": "No module named 'wordcount'",
     "output_type": "error",
     "traceback": [
      "\u001b[1;31m---------------------------------------------------------------------------\u001b[0m",
      "\u001b[1;31mModuleNotFoundError\u001b[0m                       Traceback (most recent call last)",
      "Cell \u001b[1;32mIn[15], line 33\u001b[0m\n\u001b[0;32m     30\u001b[0m     \u001b[38;5;28mprint\u001b[39m(e)\n\u001b[0;32m     32\u001b[0m \u001b[38;5;28;01mimport\u001b[39;00m \u001b[38;5;21;01msys\u001b[39;00m\n\u001b[1;32m---> 33\u001b[0m \u001b[38;5;28;01mfrom\u001b[39;00m \u001b[38;5;21;01mwordcount\u001b[39;00m \u001b[38;5;28;01mimport\u001b[39;00m word_count\n\u001b[0;32m     35\u001b[0m \u001b[38;5;28;01mtry\u001b[39;00m:\n\u001b[0;32m     36\u001b[0m     \u001b[38;5;28;01mif\u001b[39;00m \u001b[38;5;28mlen\u001b[39m(sys\u001b[38;5;241m.\u001b[39margv) \u001b[38;5;241m!=\u001b[39m \u001b[38;5;241m2\u001b[39m:\n",
      "\u001b[1;31mModuleNotFoundError\u001b[0m: No module named 'wordcount'"
     ]
    }
   ],
   "source": [
    "import sys\n",
    "try:\n",
    "    def word_count(file_name):\n",
    "        \n",
    "        with open(file_name, 'r') as file:\n",
    "            text = file.read()\n",
    "            \n",
    "            words = text.split()\n",
    "            \n",
    "            word_counts = {}\n",
    "\n",
    "            for word in words:\n",
    "                word = word.lower ()\n",
    "                if word in word_counts:\n",
    "                    word_counts[word] += 1\n",
    "                else:\n",
    "                    word_counts[word] = 1\n",
    "                   \n",
    "            return word_counts\n",
    "        \n",
    "    if len(sys.argv) != 2: \n",
    "        raise Exception(\"Atleast give one file as arguement\")\n",
    "    else:\n",
    "        file_name = sys.argv[1]\n",
    "        word_counts = word_count(file_name)\n",
    "\n",
    "except FileNotFoundError:\n",
    "    print(\"file not found error\")\n",
    "except Exception as e: \n",
    "    print(e)\n",
    "\n",
    "import sys\n",
    "from wordcount import word_count\n",
    "\n",
    "try:\n",
    "    if len(sys.argv) != 2:\n",
    "        raise Exception(\"At least give one file as arguement\")\n",
    "    else:\n",
    "        file_name = sys.argv[1] \n",
    "        word_counts = word_count(file_name)\n",
    "        \n",
    "        for word, count in word_counts.items(): \n",
    "            print(f\"{word}: {count}\")\n",
    "except FileNotFoundError: \n",
    "    print(\"file not found error\") \n",
    "except Exception as e:\n",
    "    print(e)"
   ]
  },
  {
   "cell_type": "markdown",
   "id": "d3e262b1",
   "metadata": {},
   "source": [
    "# 5. Write a Python program for finding the most frequent words in a text read from a file.\n",
    "\n",
    "i) Initially open the text file in read mode.\n",
    "\n",
    "ii) Make all the letters in the document into lowercase letters and split the words in each line.\n",
    "\n",
    "iii) Get the words in an order.\n",
    "\n",
    "iv) Sort the words for finding the most frequent words in the file.\n",
    "\n",
    "v) Print the most frequent words in the file.."
   ]
  },
  {
   "cell_type": "code",
   "execution_count": 20,
   "id": "3e836d1f",
   "metadata": {},
   "outputs": [
    {
     "ename": "SyntaxError",
     "evalue": "invalid syntax (3210762888.py, line 12)",
     "output_type": "error",
     "traceback": [
      "\u001b[1;36m  Cell \u001b[1;32mIn[20], line 12\u001b[1;36m\u001b[0m\n\u001b[1;33m    sorted_word_count = sorted(word_count.items(), key-lambda x: x[1], reverse = True)\u001b[0m\n\u001b[1;37m                                                       ^\u001b[0m\n\u001b[1;31mSyntaxError\u001b[0m\u001b[1;31m:\u001b[0m invalid syntax\n"
     ]
    }
   ],
   "source": [
    "import sys\n",
    "from collections import Counter\n",
    "\n",
    "def count_most_frequent_words(file_name):\n",
    "    try:\n",
    "        with open('end.txt', 'r') as file: \n",
    "            text = file.read().lower()\n",
    "            words = text.split()\n",
    "            \n",
    "            word_count = Counter (words)\n",
    "            \n",
    "            sorted_word_count = sorted(word_count.items(), key-lambda x: x[1], reverse = True)\n",
    "            \n",
    "            return sorted_word_count \n",
    "    except FileNotFoundError:\n",
    "        return None\n",
    "    \n",
    "\n",
    "if__name__ == \"__main__\": \n",
    "    if len(sys.argv) != 2:\n",
    "        print(\"Usage: python most frequent words.py input file.txt\") \n",
    "    else:\n",
    "        file name = sys.argv[1]\n",
    "        frequent_words = count_most_frequent_words(file_name)\n",
    "        \n",
    "        if frequent words is not None: \n",
    "            print(\"Most frequent words in the file:\") \n",
    "            for word, count in frequent words: \n",
    "                print(\"{word): [count]\")\n",
    "        else:\n",
    "            print(\"File not found.\")"
   ]
  },
  {
   "cell_type": "markdown",
   "id": "a83722dc",
   "metadata": {},
   "source": [
    "# 6. File Processing with Command-Line Arguments- Scenario: You are developing a command-line utility that processes text files. Users can specify input and output file paths as command-line arguments. Your program should handle exceptions gracefully.\n",
    "\n",
    "i. Design a Python program that takes two command-line arguments: the input file path and the output file path. Ensure that the program checks if both arguments are provided and that the input file exists.\n",
    "\n",
    "ii. Implement error handling to deal with scenarios such as missing input files. invalid file paths, or permission issues when writing to the output file.\n",
    "\n",
    "iii. If an error occurs during file processing, display a user-friendly error message. and exit the program with a non-zero exit code.\n",
    "\n",
    "iv. Write test cases that cover various scenarios, including providing valid and invalid file paths as command-line arguments."
   ]
  },
  {
   "cell_type": "code",
   "execution_count": 11,
   "id": "b926d411",
   "metadata": {},
   "outputs": [
    {
     "ename": "NameError",
     "evalue": "name 'files_not_found' is not defined",
     "output_type": "error",
     "traceback": [
      "\u001b[1;31m---------------------------------------------------------------------------\u001b[0m",
      "\u001b[1;31mNameError\u001b[0m                                 Traceback (most recent call last)",
      "Cell \u001b[1;32mIn[11], line 9\u001b[0m\n\u001b[0;32m      7\u001b[0m \u001b[38;5;28;01mfor\u001b[39;00m filename \u001b[38;5;129;01min\u001b[39;00m input_files:\n\u001b[0;32m      8\u001b[0m     \u001b[38;5;28;01mif\u001b[39;00m \u001b[38;5;129;01mnot\u001b[39;00m pathlib\u001b[38;5;241m.\u001b[39mPath(filename)\u001b[38;5;241m.\u001b[39mis_file(): \n\u001b[1;32m----> 9\u001b[0m         files_not_found\u001b[38;5;241m.\u001b[39mappend(\u001b[38;5;124m\"\u001b[39m\u001b[38;5;124mFile \u001b[39m\u001b[38;5;124m'\u001b[39m\u001b[38;5;132;01m{}\u001b[39;00m\u001b[38;5;124m'\u001b[39m\u001b[38;5;124m not found\u001b[39m\u001b[38;5;124m\"\u001b[39m\u001b[38;5;241m.\u001b[39m \u001b[38;5;28mformat\u001b[39m (filename)) \n\u001b[0;32m     10\u001b[0m         \u001b[38;5;28;01mcontinue\u001b[39;00m\n\u001b[0;32m     11\u001b[0m \u001b[38;5;28;01mwith\u001b[39;00m \u001b[38;5;28mopen\u001b[39m(input_files[\u001b[38;5;241m0\u001b[39m], \u001b[38;5;124m'\u001b[39m\u001b[38;5;124mr\u001b[39m\u001b[38;5;124m'\u001b[39m) \u001b[38;5;28;01mas\u001b[39;00m input_file:\n",
      "\u001b[1;31mNameError\u001b[0m: name 'files_not_found' is not defined"
     ]
    }
   ],
   "source": [
    "import sys, pathlib, subprocess\n",
    "\n",
    "if len(sys.argv)!=3:\n",
    "    sys.exit('Error, Please provide atleast one filename as argument') \n",
    "input_files=sys.argv[1:3]\n",
    "\n",
    "for filename in input_files:\n",
    "    if not pathlib.Path(filename).is_file(): \n",
    "        files_not_found.append(\"File '{}' not found\". format (filename)) \n",
    "        continue\n",
    "with open(input_files[0], 'r') as input_file:\n",
    "    data = input_file.read()\n",
    "\n",
    "processed_data = data.upper()\n",
    "\n",
    "with open(input_files[1], 'w') as output_file: \n",
    "    output_file.write(processed_data)"
   ]
  },
  {
   "cell_type": "code",
   "execution_count": null,
   "id": "a76d40c6",
   "metadata": {},
   "outputs": [],
   "source": []
  }
 ],
 "metadata": {
  "kernelspec": {
   "display_name": "Python 3 (ipykernel)",
   "language": "python",
   "name": "python3"
  },
  "language_info": {
   "codemirror_mode": {
    "name": "ipython",
    "version": 3
   },
   "file_extension": ".py",
   "mimetype": "text/x-python",
   "name": "python",
   "nbconvert_exporter": "python",
   "pygments_lexer": "ipython3",
   "version": "3.11.4"
  }
 },
 "nbformat": 4,
 "nbformat_minor": 5
}
